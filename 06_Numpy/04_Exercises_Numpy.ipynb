{
 "cells": [
  {
   "cell_type": "code",
   "execution_count": 1,
   "id": "d627f6d4",
   "metadata": {},
   "outputs": [],
   "source": [
    "import numpy as np"
   ]
  },
  {
   "cell_type": "code",
   "execution_count": 2,
   "id": "2827571c",
   "metadata": {},
   "outputs": [
    {
     "data": {
      "text/plain": [
       "array([0., 0., 0., 0., 0., 0., 0., 0., 0., 0.])"
      ]
     },
     "execution_count": 2,
     "metadata": {},
     "output_type": "execute_result"
    }
   ],
   "source": [
    "#create an array of 10 zeros\n",
    "np.zeros(10)"
   ]
  },
  {
   "cell_type": "code",
   "execution_count": 3,
   "id": "3962697e",
   "metadata": {},
   "outputs": [
    {
     "data": {
      "text/plain": [
       "array([5., 5., 5., 5., 5., 5., 5., 5., 5., 5.])"
      ]
     },
     "execution_count": 3,
     "metadata": {},
     "output_type": "execute_result"
    }
   ],
   "source": [
    "#create an array of 10 fives\n",
    "np.ones(10)*5"
   ]
  },
  {
   "cell_type": "code",
   "execution_count": 4,
   "id": "07fb2e75",
   "metadata": {},
   "outputs": [
    {
     "data": {
      "text/plain": [
       "array([ 60,  61,  62,  63,  64,  65,  66,  67,  68,  69,  70,  71,  72,\n",
       "        73,  74,  75,  76,  77,  78,  79,  80,  81,  82,  83,  84,  85,\n",
       "        86,  87,  88,  89,  90,  91,  92,  93,  94,  95,  96,  97,  98,\n",
       "        99, 100])"
      ]
     },
     "execution_count": 4,
     "metadata": {},
     "output_type": "execute_result"
    }
   ],
   "source": [
    "#create an array of integers from 60 to 100\n",
    "np.arange(60,101)"
   ]
  },
  {
   "cell_type": "code",
   "execution_count": 5,
   "id": "29c20fb6",
   "metadata": {},
   "outputs": [
    {
     "data": {
      "text/plain": [
       "array([ 60,  62,  64,  66,  68,  70,  72,  74,  76,  78,  80,  82,  84,\n",
       "        86,  88,  90,  92,  94,  96,  98, 100])"
      ]
     },
     "execution_count": 5,
     "metadata": {},
     "output_type": "execute_result"
    }
   ],
   "source": [
    "#create an even array of integers from 60 to 100\n",
    "np.arange(60,101,2)"
   ]
  },
  {
   "cell_type": "code",
   "execution_count": 6,
   "id": "386d21d2",
   "metadata": {},
   "outputs": [
    {
     "data": {
      "text/plain": [
       "array([61, 63, 65, 67, 69, 71, 73, 75, 77, 79, 81, 83, 85, 87, 89, 91, 93,\n",
       "       95, 97, 99])"
      ]
     },
     "execution_count": 6,
     "metadata": {},
     "output_type": "execute_result"
    }
   ],
   "source": [
    "#create an odd array of integers from 60 to 100\n",
    "np.arange(61,101,2)"
   ]
  },
  {
   "cell_type": "code",
   "execution_count": 8,
   "id": "0b4a7559",
   "metadata": {},
   "outputs": [
    {
     "data": {
      "text/plain": [
       "array([[0, 1, 2],\n",
       "       [3, 4, 5],\n",
       "       [6, 7, 8]])"
      ]
     },
     "execution_count": 8,
     "metadata": {},
     "output_type": "execute_result"
    }
   ],
   "source": [
    "#create 3*3 matrix with values from 0 to 8\n",
    "np.arange(9).reshape(3,3)"
   ]
  },
  {
   "cell_type": "code",
   "execution_count": 9,
   "id": "97fdd780",
   "metadata": {},
   "outputs": [
    {
     "data": {
      "text/plain": [
       "array([0.50675562])"
      ]
     },
     "execution_count": 9,
     "metadata": {},
     "output_type": "execute_result"
    }
   ],
   "source": [
    "#random number between 0 and 1\n",
    "np.random.rand(1)"
   ]
  },
  {
   "cell_type": "code",
   "execution_count": 11,
   "id": "6fc82b33",
   "metadata": {},
   "outputs": [
    {
     "data": {
      "text/plain": [
       "array([[26, 27, 28, 29, 30, 31, 32, 33, 34, 35],\n",
       "       [36, 37, 38, 39, 40, 41, 42, 43, 44, 45],\n",
       "       [46, 47, 48, 49, 50, 51, 52, 53, 54, 55],\n",
       "       [56, 57, 58, 59, 60, 61, 62, 63, 64, 65],\n",
       "       [66, 67, 68, 69, 70, 71, 72, 73, 74, 75]])"
      ]
     },
     "execution_count": 11,
     "metadata": {},
     "output_type": "execute_result"
    }
   ],
   "source": [
    "m1 = np.arange(26,76).reshape(5,10)\n",
    "m1"
   ]
  },
  {
   "cell_type": "code",
   "execution_count": 18,
   "id": "acb21f97",
   "metadata": {},
   "outputs": [
    {
     "data": {
      "text/plain": [
       "array([[51, 52, 53, 54, 55],\n",
       "       [61, 62, 63, 64, 65],\n",
       "       [71, 72, 73, 74, 75]])"
      ]
     },
     "execution_count": 18,
     "metadata": {},
     "output_type": "execute_result"
    }
   ],
   "source": [
    "m2 = m1[2:,5:]\n",
    "m2"
   ]
  },
  {
   "cell_type": "code",
   "execution_count": 15,
   "id": "0c457c87",
   "metadata": {},
   "outputs": [
    {
     "data": {
      "text/plain": [
       "40"
      ]
     },
     "execution_count": 15,
     "metadata": {},
     "output_type": "execute_result"
    }
   ],
   "source": [
    "m1[1,4]"
   ]
  },
  {
   "cell_type": "code",
   "execution_count": 17,
   "id": "103d75b4",
   "metadata": {},
   "outputs": [
    {
     "data": {
      "text/plain": [
       "array([[50],\n",
       "       [60],\n",
       "       [70]])"
      ]
     },
     "execution_count": 17,
     "metadata": {},
     "output_type": "execute_result"
    }
   ],
   "source": [
    "m1[2:,4:5]"
   ]
  },
  {
   "cell_type": "code",
   "execution_count": 19,
   "id": "f425106d",
   "metadata": {},
   "outputs": [
    {
     "data": {
      "text/plain": [
       "array([183, 186, 189, 192, 195])"
      ]
     },
     "execution_count": 19,
     "metadata": {},
     "output_type": "execute_result"
    }
   ],
   "source": [
    "m2.sum(axis=0)"
   ]
  },
  {
   "cell_type": "code",
   "execution_count": 20,
   "id": "b1e61b91",
   "metadata": {},
   "outputs": [
    {
     "data": {
      "text/plain": [
       "array([265, 315, 365])"
      ]
     },
     "execution_count": 20,
     "metadata": {},
     "output_type": "execute_result"
    }
   ],
   "source": [
    "m2.sum(axis=1)"
   ]
  },
  {
   "cell_type": "code",
   "execution_count": 21,
   "id": "73235532",
   "metadata": {},
   "outputs": [
    {
     "data": {
      "text/plain": [
       "array([51, 52, 53, 54, 55])"
      ]
     },
     "execution_count": 21,
     "metadata": {},
     "output_type": "execute_result"
    }
   ],
   "source": [
    "m2.min(axis=0)"
   ]
  },
  {
   "cell_type": "code",
   "execution_count": 22,
   "id": "19fd9c90",
   "metadata": {},
   "outputs": [
    {
     "data": {
      "text/plain": [
       "array([51, 61, 71])"
      ]
     },
     "execution_count": 22,
     "metadata": {},
     "output_type": "execute_result"
    }
   ],
   "source": [
    "m2.min(axis=1)"
   ]
  },
  {
   "cell_type": "code",
   "execution_count": 23,
   "id": "615d1c88",
   "metadata": {},
   "outputs": [
    {
     "data": {
      "text/plain": [
       "array([71, 72, 73, 74, 75])"
      ]
     },
     "execution_count": 23,
     "metadata": {},
     "output_type": "execute_result"
    }
   ],
   "source": [
    "m2.max(axis=0)"
   ]
  },
  {
   "cell_type": "code",
   "execution_count": 24,
   "id": "5c3debe8",
   "metadata": {},
   "outputs": [
    {
     "data": {
      "text/plain": [
       "array([55, 65, 75])"
      ]
     },
     "execution_count": 24,
     "metadata": {},
     "output_type": "execute_result"
    }
   ],
   "source": [
    "m2.max(axis=1)"
   ]
  },
  {
   "cell_type": "code",
   "execution_count": 25,
   "id": "70b602d5",
   "metadata": {},
   "outputs": [
    {
     "data": {
      "text/plain": [
       "array([61., 62., 63., 64., 65.])"
      ]
     },
     "execution_count": 25,
     "metadata": {},
     "output_type": "execute_result"
    }
   ],
   "source": [
    "m2.mean(axis=0)"
   ]
  },
  {
   "cell_type": "code",
   "execution_count": 26,
   "id": "7606f12d",
   "metadata": {},
   "outputs": [
    {
     "data": {
      "text/plain": [
       "array([53., 63., 73.])"
      ]
     },
     "execution_count": 26,
     "metadata": {},
     "output_type": "execute_result"
    }
   ],
   "source": [
    "m2.mean(axis=1)"
   ]
  },
  {
   "cell_type": "code",
   "execution_count": null,
   "id": "6c46cfb2",
   "metadata": {},
   "outputs": [],
   "source": []
  }
 ],
 "metadata": {
  "kernelspec": {
   "display_name": "Python 3 (ipykernel)",
   "language": "python",
   "name": "python3"
  },
  "language_info": {
   "codemirror_mode": {
    "name": "ipython",
    "version": 3
   },
   "file_extension": ".py",
   "mimetype": "text/x-python",
   "name": "python",
   "nbconvert_exporter": "python",
   "pygments_lexer": "ipython3",
   "version": "3.11.3"
  }
 },
 "nbformat": 4,
 "nbformat_minor": 5
}
