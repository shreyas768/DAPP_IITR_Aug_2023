{
 "cells": [
  {
   "cell_type": "code",
   "execution_count": 4,
   "id": "08b6400f",
   "metadata": {},
   "outputs": [],
   "source": [
    "import numpy as np #alias"
   ]
  },
  {
   "cell_type": "code",
   "execution_count": 8,
   "id": "aa5f6b8d",
   "metadata": {},
   "outputs": [
    {
     "data": {
      "text/plain": [
       "array([ 0,  2,  4,  6,  8, 10])"
      ]
     },
     "execution_count": 8,
     "metadata": {},
     "output_type": "execute_result"
    }
   ],
   "source": [
    "ar = np.arange(0,11,2)\n",
    "ar"
   ]
  },
  {
   "cell_type": "markdown",
   "id": "e272491c",
   "metadata": {},
   "source": [
    "# Bracket Index and Selection"
   ]
  },
  {
   "cell_type": "code",
   "execution_count": 9,
   "id": "4564dc77",
   "metadata": {},
   "outputs": [
    {
     "data": {
      "text/plain": [
       "10"
      ]
     },
     "execution_count": 9,
     "metadata": {},
     "output_type": "execute_result"
    }
   ],
   "source": [
    "ar[5]"
   ]
  },
  {
   "cell_type": "code",
   "execution_count": 11,
   "id": "d1584e59",
   "metadata": {},
   "outputs": [
    {
     "data": {
      "text/plain": [
       "array([ 2,  4,  6,  8, 10])"
      ]
     },
     "execution_count": 11,
     "metadata": {},
     "output_type": "execute_result"
    }
   ],
   "source": [
    "ar[1:]"
   ]
  },
  {
   "cell_type": "code",
   "execution_count": 13,
   "id": "94be155d",
   "metadata": {},
   "outputs": [
    {
     "data": {
      "text/plain": [
       "array([0, 2, 4])"
      ]
     },
     "execution_count": 13,
     "metadata": {},
     "output_type": "execute_result"
    }
   ],
   "source": [
    "ar[:3]"
   ]
  },
  {
   "cell_type": "code",
   "execution_count": 14,
   "id": "cd9643b2",
   "metadata": {},
   "outputs": [
    {
     "data": {
      "text/plain": [
       "array([2, 4])"
      ]
     },
     "execution_count": 14,
     "metadata": {},
     "output_type": "execute_result"
    }
   ],
   "source": [
    "ar[1:3]"
   ]
  },
  {
   "cell_type": "markdown",
   "id": "bddad3c7",
   "metadata": {},
   "source": [
    "# Broadcasting"
   ]
  },
  {
   "cell_type": "code",
   "execution_count": 15,
   "id": "9dbc9dac",
   "metadata": {},
   "outputs": [
    {
     "data": {
      "text/plain": [
       "array([ 0,  2,  4,  6,  8, 10])"
      ]
     },
     "execution_count": 15,
     "metadata": {},
     "output_type": "execute_result"
    }
   ],
   "source": [
    "ar"
   ]
  },
  {
   "cell_type": "code",
   "execution_count": 16,
   "id": "fd0b73c9",
   "metadata": {},
   "outputs": [
    {
     "data": {
      "text/plain": [
       "array([23, 23, 23,  6,  8, 10])"
      ]
     },
     "execution_count": 16,
     "metadata": {},
     "output_type": "execute_result"
    }
   ],
   "source": [
    "ar[0:3] = 23\n",
    "ar"
   ]
  },
  {
   "cell_type": "code",
   "execution_count": 22,
   "id": "7a78bcb1",
   "metadata": {},
   "outputs": [
    {
     "data": {
      "text/plain": [
       "array([ 0,  2,  4,  6,  8, 10])"
      ]
     },
     "execution_count": 22,
     "metadata": {},
     "output_type": "execute_result"
    }
   ],
   "source": [
    "ar = np.arange(0,11,2)\n",
    "ar"
   ]
  },
  {
   "cell_type": "markdown",
   "id": "3c71a5cd",
   "metadata": {},
   "source": [
    "## Slicing"
   ]
  },
  {
   "cell_type": "code",
   "execution_count": 23,
   "id": "7cef2585",
   "metadata": {},
   "outputs": [],
   "source": [
    "ar1 = ar[1:3]"
   ]
  },
  {
   "cell_type": "code",
   "execution_count": 24,
   "id": "62cf6e62",
   "metadata": {},
   "outputs": [
    {
     "data": {
      "text/plain": [
       "array([2, 4])"
      ]
     },
     "execution_count": 24,
     "metadata": {},
     "output_type": "execute_result"
    }
   ],
   "source": [
    "ar1"
   ]
  },
  {
   "cell_type": "code",
   "execution_count": 25,
   "id": "9a2a3deb",
   "metadata": {},
   "outputs": [
    {
     "data": {
      "text/plain": [
       "array([ 0,  2,  4,  6,  8, 10])"
      ]
     },
     "execution_count": 25,
     "metadata": {},
     "output_type": "execute_result"
    }
   ],
   "source": [
    "ar"
   ]
  },
  {
   "cell_type": "code",
   "execution_count": 26,
   "id": "f1194b5c",
   "metadata": {},
   "outputs": [],
   "source": [
    "ar_copy = ar.copy()"
   ]
  },
  {
   "cell_type": "code",
   "execution_count": 27,
   "id": "4286fc43",
   "metadata": {},
   "outputs": [
    {
     "data": {
      "text/plain": [
       "array([ 0,  2,  4,  6,  8, 10])"
      ]
     },
     "execution_count": 27,
     "metadata": {},
     "output_type": "execute_result"
    }
   ],
   "source": [
    "ar_copy"
   ]
  },
  {
   "cell_type": "code",
   "execution_count": 28,
   "id": "015dc1ab",
   "metadata": {},
   "outputs": [],
   "source": [
    "ar_copy[:] = 99"
   ]
  },
  {
   "cell_type": "code",
   "execution_count": 29,
   "id": "65309ef4",
   "metadata": {},
   "outputs": [
    {
     "data": {
      "text/plain": [
       "array([99, 99, 99, 99, 99, 99])"
      ]
     },
     "execution_count": 29,
     "metadata": {},
     "output_type": "execute_result"
    }
   ],
   "source": [
    "ar_copy"
   ]
  },
  {
   "cell_type": "code",
   "execution_count": 30,
   "id": "340da685",
   "metadata": {},
   "outputs": [
    {
     "data": {
      "text/plain": [
       "array([ 0,  2,  4,  6,  8, 10])"
      ]
     },
     "execution_count": 30,
     "metadata": {},
     "output_type": "execute_result"
    }
   ],
   "source": [
    "ar"
   ]
  },
  {
   "cell_type": "markdown",
   "id": "8c1bb5f2",
   "metadata": {},
   "source": [
    "# Indexing(Matrices)"
   ]
  },
  {
   "cell_type": "code",
   "execution_count": 32,
   "id": "7d50b0e8",
   "metadata": {},
   "outputs": [],
   "source": [
    "ar_mat = np.array(([1,2,3],[4,5,6],[7,8,9]))"
   ]
  },
  {
   "cell_type": "code",
   "execution_count": 33,
   "id": "1c6ed285",
   "metadata": {},
   "outputs": [
    {
     "data": {
      "text/plain": [
       "array([[1, 2, 3],\n",
       "       [4, 5, 6],\n",
       "       [7, 8, 9]])"
      ]
     },
     "execution_count": 33,
     "metadata": {},
     "output_type": "execute_result"
    }
   ],
   "source": [
    "ar_mat"
   ]
  },
  {
   "cell_type": "code",
   "execution_count": 34,
   "id": "328946d2",
   "metadata": {},
   "outputs": [
    {
     "data": {
      "text/plain": [
       "array([4, 5, 6])"
      ]
     },
     "execution_count": 34,
     "metadata": {},
     "output_type": "execute_result"
    }
   ],
   "source": [
    "ar_mat[1]"
   ]
  },
  {
   "cell_type": "code",
   "execution_count": 35,
   "id": "dc5b6951",
   "metadata": {},
   "outputs": [
    {
     "data": {
      "text/plain": [
       "6"
      ]
     },
     "execution_count": 35,
     "metadata": {},
     "output_type": "execute_result"
    }
   ],
   "source": [
    "ar_mat[1][2]"
   ]
  },
  {
   "cell_type": "code",
   "execution_count": 36,
   "id": "3dfe904e",
   "metadata": {},
   "outputs": [
    {
     "data": {
      "text/plain": [
       "8"
      ]
     },
     "execution_count": 36,
     "metadata": {},
     "output_type": "execute_result"
    }
   ],
   "source": [
    "ar_mat[2][1]"
   ]
  },
  {
   "cell_type": "code",
   "execution_count": 37,
   "id": "81d1d845",
   "metadata": {},
   "outputs": [
    {
     "data": {
      "text/plain": [
       "8"
      ]
     },
     "execution_count": 37,
     "metadata": {},
     "output_type": "execute_result"
    }
   ],
   "source": [
    "ar_mat[2,1]"
   ]
  },
  {
   "cell_type": "code",
   "execution_count": 40,
   "id": "abeb870b",
   "metadata": {},
   "outputs": [
    {
     "data": {
      "text/plain": [
       "array([[2, 3],\n",
       "       [5, 6]])"
      ]
     },
     "execution_count": 40,
     "metadata": {},
     "output_type": "execute_result"
    }
   ],
   "source": [
    "ar_mat[:2,1:]"
   ]
  },
  {
   "cell_type": "code",
   "execution_count": 41,
   "id": "f19c2899",
   "metadata": {},
   "outputs": [
    {
     "data": {
      "text/plain": [
       "array([[4, 5],\n",
       "       [7, 8]])"
      ]
     },
     "execution_count": 41,
     "metadata": {},
     "output_type": "execute_result"
    }
   ],
   "source": [
    "ar_mat[1:,:2]"
   ]
  },
  {
   "cell_type": "markdown",
   "id": "6ec54052",
   "metadata": {},
   "source": [
    "## Conditional Selection"
   ]
  },
  {
   "cell_type": "code",
   "execution_count": 42,
   "id": "4ec20a77",
   "metadata": {},
   "outputs": [
    {
     "data": {
      "text/plain": [
       "array([ 0,  2,  4,  6,  8, 10])"
      ]
     },
     "execution_count": 42,
     "metadata": {},
     "output_type": "execute_result"
    }
   ],
   "source": [
    "ar"
   ]
  },
  {
   "cell_type": "code",
   "execution_count": 44,
   "id": "4200d22e",
   "metadata": {},
   "outputs": [],
   "source": [
    "ar_bool = ar > 5"
   ]
  },
  {
   "cell_type": "code",
   "execution_count": 45,
   "id": "a34b5f00",
   "metadata": {},
   "outputs": [
    {
     "data": {
      "text/plain": [
       "array([False, False, False,  True,  True,  True])"
      ]
     },
     "execution_count": 45,
     "metadata": {},
     "output_type": "execute_result"
    }
   ],
   "source": [
    "ar_bool"
   ]
  },
  {
   "cell_type": "code",
   "execution_count": 47,
   "id": "6870838d",
   "metadata": {},
   "outputs": [
    {
     "data": {
      "text/plain": [
       "array([0, 2, 4])"
      ]
     },
     "execution_count": 47,
     "metadata": {},
     "output_type": "execute_result"
    }
   ],
   "source": [
    "ar[ar_bool == False]"
   ]
  },
  {
   "cell_type": "code",
   "execution_count": 48,
   "id": "e408f5d9",
   "metadata": {},
   "outputs": [
    {
     "data": {
      "text/plain": [
       "array([ 6,  8, 10])"
      ]
     },
     "execution_count": 48,
     "metadata": {},
     "output_type": "execute_result"
    }
   ],
   "source": [
    "ar[ar_bool]"
   ]
  },
  {
   "cell_type": "code",
   "execution_count": 49,
   "id": "e65f60cb",
   "metadata": {},
   "outputs": [
    {
     "data": {
      "text/plain": [
       "array([ 4,  6,  8, 10])"
      ]
     },
     "execution_count": 49,
     "metadata": {},
     "output_type": "execute_result"
    }
   ],
   "source": [
    "ar[ar>2]"
   ]
  },
  {
   "cell_type": "code",
   "execution_count": 50,
   "id": "8c5e8c32",
   "metadata": {},
   "outputs": [
    {
     "data": {
      "text/plain": [
       "array([0, 2, 4, 6])"
      ]
     },
     "execution_count": 50,
     "metadata": {},
     "output_type": "execute_result"
    }
   ],
   "source": [
    "ar[ar<8]"
   ]
  },
  {
   "cell_type": "code",
   "execution_count": 53,
   "id": "4c7f5fe4",
   "metadata": {},
   "outputs": [
    {
     "data": {
      "text/plain": [
       "array([4, 6])"
      ]
     },
     "execution_count": 53,
     "metadata": {},
     "output_type": "execute_result"
    }
   ],
   "source": [
    "ar[(ar>2) & (ar < 8)]"
   ]
  },
  {
   "cell_type": "code",
   "execution_count": 55,
   "id": "c2cbc5b7",
   "metadata": {},
   "outputs": [
    {
     "data": {
      "text/plain": [
       "array([ 0, 10])"
      ]
     },
     "execution_count": 55,
     "metadata": {},
     "output_type": "execute_result"
    }
   ],
   "source": [
    "ar[(ar<2) | (ar>8)]"
   ]
  },
  {
   "cell_type": "code",
   "execution_count": 54,
   "id": "a0933dfb",
   "metadata": {},
   "outputs": [
    {
     "data": {
      "text/plain": [
       "array([ 8, 10])"
      ]
     },
     "execution_count": 54,
     "metadata": {},
     "output_type": "execute_result"
    }
   ],
   "source": [
    "x = 6\n",
    "ar[ar>x]"
   ]
  },
  {
   "cell_type": "code",
   "execution_count": null,
   "id": "1111b9c9",
   "metadata": {},
   "outputs": [],
   "source": []
  }
 ],
 "metadata": {
  "kernelspec": {
   "display_name": "Python 3 (ipykernel)",
   "language": "python",
   "name": "python3"
  },
  "language_info": {
   "codemirror_mode": {
    "name": "ipython",
    "version": 3
   },
   "file_extension": ".py",
   "mimetype": "text/x-python",
   "name": "python",
   "nbconvert_exporter": "python",
   "pygments_lexer": "ipython3",
   "version": "3.11.3"
  }
 },
 "nbformat": 4,
 "nbformat_minor": 5
}
