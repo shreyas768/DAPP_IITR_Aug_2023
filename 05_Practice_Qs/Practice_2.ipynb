{
 "cells": [
  {
   "cell_type": "code",
   "execution_count": 1,
   "id": "2f20d378",
   "metadata": {},
   "outputs": [],
   "source": [
    "s = 'Print only the words that start with s in this sentence'"
   ]
  },
  {
   "cell_type": "code",
   "execution_count": 2,
   "id": "53a12c23",
   "metadata": {},
   "outputs": [
    {
     "name": "stdout",
     "output_type": "stream",
     "text": [
      "start\n",
      "s\n",
      "sentence\n"
     ]
    }
   ],
   "source": [
    "for x in s.split():\n",
    "    if x[0] == 's'or x[0] == 'S':\n",
    "        print(x)"
   ]
  },
  {
   "cell_type": "code",
   "execution_count": 3,
   "id": "c86b23f0",
   "metadata": {},
   "outputs": [
    {
     "data": {
      "text/plain": [
       "[0, 2, 4, 6, 8, 10]"
      ]
     },
     "execution_count": 3,
     "metadata": {},
     "output_type": "execute_result"
    }
   ],
   "source": [
    "list(range(0,11,2))"
   ]
  },
  {
   "cell_type": "code",
   "execution_count": 4,
   "id": "8e097592",
   "metadata": {},
   "outputs": [
    {
     "data": {
      "text/plain": [
       "[3, 6, 9, 12, 15, 18, 21, 24, 27, 30, 33, 36, 39, 42, 45, 48]"
      ]
     },
     "execution_count": 4,
     "metadata": {},
     "output_type": "execute_result"
    }
   ],
   "source": [
    "[x for x in range(1,51) if x%3 == 0]"
   ]
  },
  {
   "cell_type": "code",
   "execution_count": 5,
   "id": "f5d76cf4",
   "metadata": {},
   "outputs": [],
   "source": [
    "st = 'Print every word in this sentence that has an even number of letters'"
   ]
  },
  {
   "cell_type": "code",
   "execution_count": 7,
   "id": "273eb28a",
   "metadata": {},
   "outputs": [
    {
     "name": "stdout",
     "output_type": "stream",
     "text": [
      "word..This words has an even length\n",
      "in..This words has an even length\n",
      "this..This words has an even length\n",
      "sentence..This words has an even length\n",
      "that..This words has an even length\n",
      "an..This words has an even length\n",
      "even..This words has an even length\n",
      "number..This words has an even length\n",
      "of..This words has an even length\n"
     ]
    }
   ],
   "source": [
    "for x in st.split():\n",
    "    if len(x)%2 == 0:\n",
    "        print(x +'..This words has an even length')"
   ]
  },
  {
   "cell_type": "code",
   "execution_count": 8,
   "id": "becc50eb",
   "metadata": {},
   "outputs": [
    {
     "name": "stdout",
     "output_type": "stream",
     "text": [
      "1\n",
      "2\n",
      "Three\n",
      "4\n",
      "Hi-Fi\n",
      "Three\n",
      "7\n",
      "8\n",
      "Three\n",
      "Hi-Fi\n",
      "11\n",
      "Three\n",
      "13\n",
      "14\n",
      "Bingo\n",
      "16\n",
      "17\n",
      "Three\n",
      "19\n",
      "Hi-Fi\n",
      "Three\n",
      "22\n",
      "23\n",
      "Three\n",
      "Hi-Fi\n",
      "26\n",
      "Three\n",
      "28\n",
      "29\n",
      "Bingo\n",
      "31\n",
      "32\n",
      "Three\n",
      "34\n",
      "Hi-Fi\n",
      "Three\n",
      "37\n",
      "38\n",
      "Three\n",
      "Hi-Fi\n",
      "41\n",
      "Three\n",
      "43\n",
      "44\n",
      "Bingo\n",
      "46\n",
      "47\n",
      "Three\n",
      "49\n",
      "Hi-Fi\n",
      "Three\n",
      "52\n",
      "53\n",
      "Three\n",
      "Hi-Fi\n",
      "56\n",
      "Three\n",
      "58\n",
      "59\n",
      "Bingo\n",
      "61\n",
      "62\n",
      "Three\n",
      "64\n",
      "Hi-Fi\n",
      "Three\n",
      "67\n",
      "68\n",
      "Three\n",
      "Hi-Fi\n",
      "71\n",
      "Three\n",
      "73\n",
      "74\n",
      "Bingo\n",
      "76\n",
      "77\n",
      "Three\n",
      "79\n",
      "Hi-Fi\n",
      "Three\n",
      "82\n",
      "83\n",
      "Three\n",
      "Hi-Fi\n",
      "86\n",
      "Three\n",
      "88\n",
      "89\n",
      "Bingo\n",
      "91\n",
      "92\n",
      "Three\n",
      "94\n",
      "Hi-Fi\n",
      "Three\n",
      "97\n",
      "98\n",
      "Three\n",
      "Hi-Fi\n"
     ]
    }
   ],
   "source": [
    "for x in range(1,101):\n",
    "    if x%3 == 0 and x%5 == 0:\n",
    "        print('Bingo')\n",
    "    elif x%3 == 0:\n",
    "        print('Three')\n",
    "    elif x%5 == 0:\n",
    "        print('Hi-Fi')\n",
    "    else:\n",
    "        print(x)"
   ]
  },
  {
   "cell_type": "code",
   "execution_count": 9,
   "id": "430120cf",
   "metadata": {},
   "outputs": [
    {
     "data": {
      "text/plain": [
       "['C', 'a', 'l', 'o', 't', 'f', 'l', 'o', 'e', 'w', 'i', 't', 's']"
      ]
     },
     "execution_count": 9,
     "metadata": {},
     "output_type": "execute_result"
    }
   ],
   "source": [
    "s = 'Create a list of the first letters of every word in this string'\n",
    "[x[0] for x in s.split()]"
   ]
  },
  {
   "cell_type": "code",
   "execution_count": null,
   "id": "a2df417e",
   "metadata": {},
   "outputs": [],
   "source": []
  }
 ],
 "metadata": {
  "kernelspec": {
   "display_name": "Python 3 (ipykernel)",
   "language": "python",
   "name": "python3"
  },
  "language_info": {
   "codemirror_mode": {
    "name": "ipython",
    "version": 3
   },
   "file_extension": ".py",
   "mimetype": "text/x-python",
   "name": "python",
   "nbconvert_exporter": "python",
   "pygments_lexer": "ipython3",
   "version": "3.11.3"
  }
 },
 "nbformat": 4,
 "nbformat_minor": 5
}
