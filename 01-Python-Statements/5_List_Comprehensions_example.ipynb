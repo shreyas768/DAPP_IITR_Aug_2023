{
 "cells": [
  {
   "cell_type": "code",
   "execution_count": 5,
   "id": "cd4d0e87",
   "metadata": {},
   "outputs": [],
   "source": [
    "#Example1\n",
    "lst1 = [p for p in 'Roorkee']"
   ]
  },
  {
   "cell_type": "code",
   "execution_count": 6,
   "id": "aa071c7c",
   "metadata": {},
   "outputs": [
    {
     "data": {
      "text/plain": [
       "['R', 'o', 'o', 'r', 'k', 'e', 'e']"
      ]
     },
     "execution_count": 6,
     "metadata": {},
     "output_type": "execute_result"
    }
   ],
   "source": [
    "lst1"
   ]
  },
  {
   "cell_type": "code",
   "execution_count": 8,
   "id": "ea857162",
   "metadata": {},
   "outputs": [
    {
     "data": {
      "text/plain": [
       "[0, 1, 2, 3, 4, 5, 6, 7, 8, 9, 10, 11, 12, 13, 14, 15, 16, 17, 18, 19, 20]"
      ]
     },
     "execution_count": 8,
     "metadata": {},
     "output_type": "execute_result"
    }
   ],
   "source": [
    "#Example2\n",
    "lst2 = [x for x in range(0,21)]\n",
    "lst2"
   ]
  },
  {
   "cell_type": "code",
   "execution_count": 9,
   "id": "b94c6b87",
   "metadata": {},
   "outputs": [
    {
     "data": {
      "text/plain": [
       "[0, 3, 6, 9, 12, 15, 18]"
      ]
     },
     "execution_count": 9,
     "metadata": {},
     "output_type": "execute_result"
    }
   ],
   "source": [
    "#Example3\n",
    "lst3 = [x for x in range(0,21) if x%3 == 0]\n",
    "lst3"
   ]
  },
  {
   "cell_type": "code",
   "execution_count": 10,
   "id": "b9bd5a7d",
   "metadata": {},
   "outputs": [
    {
     "data": {
      "text/plain": [
       "[32.0, 50.0, 113.53999999999999, 120.38000000000001]"
      ]
     },
     "execution_count": 10,
     "metadata": {},
     "output_type": "execute_result"
    }
   ],
   "source": [
    "#Example4\n",
    "Celsuis = [0,10,45.3,49.1]\n",
    "Fahrenheit = [((9/5)*t + 32) for t in Celsuis]\n",
    "Fahrenheit"
   ]
  },
  {
   "cell_type": "code",
   "execution_count": 11,
   "id": "afc27247",
   "metadata": {},
   "outputs": [
    {
     "data": {
      "text/plain": [
       "[0,\n",
       " 1,\n",
       " 64,\n",
       " 729,\n",
       " 4096,\n",
       " 15625,\n",
       " 46656,\n",
       " 117649,\n",
       " 262144,\n",
       " 531441,\n",
       " 1000000,\n",
       " 1771561,\n",
       " 2985984,\n",
       " 4826809,\n",
       " 7529536,\n",
       " 11390625,\n",
       " 16777216,\n",
       " 24137569,\n",
       " 34012224,\n",
       " 47045881,\n",
       " 64000000]"
      ]
     },
     "execution_count": 11,
     "metadata": {},
     "output_type": "execute_result"
    }
   ],
   "source": [
    "#Example5\n",
    "lst5 = [x**3 for x in [x**2 for x in range(0,21)]]\n",
    "lst5"
   ]
  },
  {
   "cell_type": "code",
   "execution_count": 14,
   "id": "cbce5be2",
   "metadata": {},
   "outputs": [
    {
     "data": {
      "text/plain": [
       "[0,\n",
       " 1,\n",
       " 64,\n",
       " 729,\n",
       " 4096,\n",
       " 15625,\n",
       " 46656,\n",
       " 117649,\n",
       " 262144,\n",
       " 531441,\n",
       " 1000000,\n",
       " 1771561,\n",
       " 2985984,\n",
       " 4826809,\n",
       " 7529536,\n",
       " 11390625,\n",
       " 16777216,\n",
       " 24137569,\n",
       " 34012224,\n",
       " 47045881,\n",
       " 64000000]"
      ]
     },
     "execution_count": 14,
     "metadata": {},
     "output_type": "execute_result"
    }
   ],
   "source": [
    "lst6 =  [x**2 for x in range(0,21)]\n",
    "lst7 = [x**3 for x in lst6]\n",
    "lst7 "
   ]
  },
  {
   "cell_type": "code",
   "execution_count": null,
   "id": "209a4b80",
   "metadata": {},
   "outputs": [],
   "source": []
  }
 ],
 "metadata": {
  "kernelspec": {
   "display_name": "Python 3 (ipykernel)",
   "language": "python",
   "name": "python3"
  },
  "language_info": {
   "codemirror_mode": {
    "name": "ipython",
    "version": 3
   },
   "file_extension": ".py",
   "mimetype": "text/x-python",
   "name": "python",
   "nbconvert_exporter": "python",
   "pygments_lexer": "ipython3",
   "version": "3.11.3"
  }
 },
 "nbformat": 4,
 "nbformat_minor": 5
}
