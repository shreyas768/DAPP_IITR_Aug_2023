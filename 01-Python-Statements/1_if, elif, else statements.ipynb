{
 "cells": [
  {
   "cell_type": "markdown",
   "id": "8dc89303",
   "metadata": {},
   "source": [
    "if case1:\n",
    "    perform action1\n",
    "elif case2:\n",
    "    perform action2\n",
    "else:\n",
    "    perform action3"
   ]
  },
  {
   "cell_type": "code",
   "execution_count": 3,
   "id": "6dd78d26",
   "metadata": {},
   "outputs": [
    {
     "name": "stdout",
     "output_type": "stream",
     "text": [
      "hello\n"
     ]
    }
   ],
   "source": [
    "x = True\n",
    "if x:\n",
    "    print('hello')"
   ]
  },
  {
   "cell_type": "code",
   "execution_count": 4,
   "id": "1101f17d",
   "metadata": {},
   "outputs": [
    {
     "name": "stdout",
     "output_type": "stream",
     "text": [
      "not hello\n"
     ]
    }
   ],
   "source": [
    "x = False\n",
    "if x:\n",
    "    print('hello')\n",
    "else:\n",
    "    print('not hello')"
   ]
  },
  {
   "cell_type": "code",
   "execution_count": 7,
   "id": "22a75324",
   "metadata": {},
   "outputs": [
    {
     "name": "stdout",
     "output_type": "stream",
     "text": [
      "This is not a Shop\n"
     ]
    }
   ],
   "source": [
    "x = 'hello'\n",
    "\n",
    "if x == 'Bakery':\n",
    "    print('Welcome to Bakery')\n",
    "elif x == 'Shop':\n",
    "    print('This is indeed a Shop')\n",
    "else:\n",
    "    print('This is not a Shop')"
   ]
  },
  {
   "cell_type": "code",
   "execution_count": 8,
   "id": "1fd4f33f",
   "metadata": {},
   "outputs": [
    {
     "name": "stdout",
     "output_type": "stream",
     "text": [
      "You're right!\n"
     ]
    }
   ],
   "source": [
    "person = 'Shreyas'\n",
    "if person == 'Shreyas':\n",
    "    print (\"You're right!\")\n",
    "else:\n",
    "    print('Nope!!')"
   ]
  },
  {
   "cell_type": "code",
   "execution_count": null,
   "id": "8226700e",
   "metadata": {},
   "outputs": [],
   "source": []
  }
 ],
 "metadata": {
  "kernelspec": {
   "display_name": "Python 3 (ipykernel)",
   "language": "python",
   "name": "python3"
  },
  "language_info": {
   "codemirror_mode": {
    "name": "ipython",
    "version": 3
   },
   "file_extension": ".py",
   "mimetype": "text/x-python",
   "name": "python",
   "nbconvert_exporter": "python",
   "pygments_lexer": "ipython3",
   "version": "3.11.3"
  }
 },
 "nbformat": 4,
 "nbformat_minor": 5
}
