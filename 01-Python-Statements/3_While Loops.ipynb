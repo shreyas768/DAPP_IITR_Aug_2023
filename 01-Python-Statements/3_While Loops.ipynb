{
 "cells": [
  {
   "cell_type": "code",
   "execution_count": 1,
   "id": "a70f3b2c",
   "metadata": {},
   "outputs": [
    {
     "name": "stdout",
     "output_type": "stream",
     "text": [
      "x value now is 0\n",
      "since x is less than 10, add 1 to x\n",
      "x value now is 1\n",
      "since x is less than 10, add 1 to x\n",
      "x value now is 2\n",
      "since x is less than 10, add 1 to x\n",
      "x value now is 3\n",
      "since x is less than 10, add 1 to x\n",
      "x value now is 4\n",
      "since x is less than 10, add 1 to x\n",
      "x value now is 5\n",
      "since x is less than 10, add 1 to x\n",
      "x value now is 6\n",
      "since x is less than 10, add 1 to x\n",
      "x value now is 7\n",
      "since x is less than 10, add 1 to x\n",
      "x value now is 8\n",
      "since x is less than 10, add 1 to x\n",
      "x value now is 9\n",
      "since x is less than 10, add 1 to x\n"
     ]
    }
   ],
   "source": [
    "x = 0\n",
    "\n",
    "while x<10:\n",
    "    print('x value now is',x)\n",
    "    print('since x is less than 10, add 1 to x')\n",
    "    x = x +1 \n",
    "    #x+=1"
   ]
  },
  {
   "cell_type": "code",
   "execution_count": 2,
   "id": "0bdd7625",
   "metadata": {},
   "outputs": [
    {
     "name": "stdout",
     "output_type": "stream",
     "text": [
      "x value now is 0\n",
      "since x is less than 10, add 1 to x\n",
      "x value now is 1\n",
      "since x is less than 10, add 1 to x\n",
      "x value now is 2\n",
      "since x is less than 10, add 1 to x\n",
      "x value now is 3\n",
      "since x is less than 10, add 1 to x\n",
      "x value now is 4\n",
      "since x is less than 10, add 1 to x\n",
      "x value now is 5\n",
      "since x is less than 10, add 1 to x\n",
      "x value now is 6\n",
      "since x is less than 10, add 1 to x\n",
      "x value now is 7\n",
      "since x is less than 10, add 1 to x\n",
      "x value now is 8\n",
      "since x is less than 10, add 1 to x\n",
      "x value now is 9\n",
      "since x is less than 10, add 1 to x\n",
      "Operation is Done\n"
     ]
    }
   ],
   "source": [
    "x = 0\n",
    "\n",
    "while x<10:\n",
    "    print('x value now is',x)\n",
    "    print('since x is less than 10, add 1 to x')\n",
    "    x = x +1 \n",
    "    #x+=1\n",
    "else:\n",
    "    print('Operation is Done')"
   ]
  },
  {
   "cell_type": "code",
   "execution_count": 3,
   "id": "89234372",
   "metadata": {},
   "outputs": [
    {
     "name": "stdout",
     "output_type": "stream",
     "text": [
      "x value now is 0\n",
      "since x is less than 10, add 1 to x\n",
      "process ongoing...\n",
      "x value now is 1\n",
      "since x is less than 10, add 1 to x\n",
      "process ongoing...\n",
      "x value now is 2\n",
      "since x is less than 10, add 1 to x\n",
      "x ==3\n",
      "x value now is 3\n",
      "since x is less than 10, add 1 to x\n",
      "process ongoing...\n",
      "x value now is 4\n",
      "since x is less than 10, add 1 to x\n",
      "process ongoing...\n",
      "x value now is 5\n",
      "since x is less than 10, add 1 to x\n",
      "process ongoing...\n",
      "x value now is 6\n",
      "since x is less than 10, add 1 to x\n",
      "process ongoing...\n",
      "x value now is 7\n",
      "since x is less than 10, add 1 to x\n",
      "process ongoing...\n",
      "x value now is 8\n",
      "since x is less than 10, add 1 to x\n",
      "process ongoing...\n",
      "x value now is 9\n",
      "since x is less than 10, add 1 to x\n",
      "process ongoing...\n"
     ]
    }
   ],
   "source": [
    "x = 0\n",
    "while x < 10:\n",
    "    print('x value now is',x)\n",
    "    print('since x is less than 10, add 1 to x')\n",
    "    x = x +1 \n",
    "    if x == 3:\n",
    "        print('x ==3')\n",
    "    else:\n",
    "        print('process ongoing...')\n",
    "        continue"
   ]
  },
  {
   "cell_type": "code",
   "execution_count": 5,
   "id": "d781400b",
   "metadata": {},
   "outputs": [
    {
     "name": "stdout",
     "output_type": "stream",
     "text": [
      "x value now is 0\n",
      "since x is less than 10, add 1 to x\n",
      "process ongoing...\n",
      "x value now is 1\n",
      "since x is less than 10, add 1 to x\n",
      "process ongoing...\n",
      "x value now is 2\n",
      "since x is less than 10, add 1 to x\n",
      "Breaking since x has become 3\n"
     ]
    }
   ],
   "source": [
    "x = 0\n",
    "while x < 10:\n",
    "    print('x value now is',x)\n",
    "    print('since x is less than 10, add 1 to x')\n",
    "    x = x +1 \n",
    "    if x == 3:\n",
    "        print('Breaking since x has become 3')\n",
    "        break\n",
    "    else:\n",
    "        print('process ongoing...')\n",
    "        "
   ]
  },
  {
   "cell_type": "code",
   "execution_count": 6,
   "id": "7eb09591",
   "metadata": {},
   "outputs": [],
   "source": [
    "#while True:\n",
    "    #print('hello')"
   ]
  },
  {
   "cell_type": "code",
   "execution_count": null,
   "id": "bee9375a",
   "metadata": {},
   "outputs": [],
   "source": []
  }
 ],
 "metadata": {
  "kernelspec": {
   "display_name": "Python 3 (ipykernel)",
   "language": "python",
   "name": "python3"
  },
  "language_info": {
   "codemirror_mode": {
    "name": "ipython",
    "version": 3
   },
   "file_extension": ".py",
   "mimetype": "text/x-python",
   "name": "python",
   "nbconvert_exporter": "python",
   "pygments_lexer": "ipython3",
   "version": "3.11.3"
  }
 },
 "nbformat": 4,
 "nbformat_minor": 5
}
