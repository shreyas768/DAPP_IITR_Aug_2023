{
 "cells": [
  {
   "cell_type": "markdown",
   "id": "c197879f",
   "metadata": {},
   "source": [
    "# Range"
   ]
  },
  {
   "cell_type": "code",
   "execution_count": 1,
   "id": "46d25889",
   "metadata": {},
   "outputs": [
    {
     "data": {
      "text/plain": [
       "range(0, 21)"
      ]
     },
     "execution_count": 1,
     "metadata": {},
     "output_type": "execute_result"
    }
   ],
   "source": [
    "range(0,21)"
   ]
  },
  {
   "cell_type": "code",
   "execution_count": 2,
   "id": "b5afdc6d",
   "metadata": {},
   "outputs": [
    {
     "data": {
      "text/plain": [
       "[0, 1, 2, 3, 4, 5, 6, 7, 8, 9, 10, 11, 12, 13, 14, 15, 16, 17, 18, 19, 20]"
      ]
     },
     "execution_count": 2,
     "metadata": {},
     "output_type": "execute_result"
    }
   ],
   "source": [
    "list(range(0,21))"
   ]
  },
  {
   "cell_type": "code",
   "execution_count": 3,
   "id": "903c3cb2",
   "metadata": {},
   "outputs": [
    {
     "data": {
      "text/plain": [
       "[0, 2, 4, 6, 8, 10, 12, 14, 16, 18, 20]"
      ]
     },
     "execution_count": 3,
     "metadata": {},
     "output_type": "execute_result"
    }
   ],
   "source": [
    "list(range(0,21,2))"
   ]
  },
  {
   "cell_type": "code",
   "execution_count": 18,
   "id": "08c3f557",
   "metadata": {},
   "outputs": [],
   "source": [
    "xy = list(range(0,101,10))"
   ]
  },
  {
   "cell_type": "markdown",
   "id": "d5debdba",
   "metadata": {},
   "source": [
    "# Enumerate"
   ]
  },
  {
   "cell_type": "code",
   "execution_count": 6,
   "id": "4e2d9ec1",
   "metadata": {},
   "outputs": [
    {
     "name": "stdout",
     "output_type": "stream",
     "text": [
      "At 0 index, letter is a\n",
      "At 1 index, letter is b\n",
      "At 2 index, letter is c\n",
      "At 3 index, letter is d\n",
      "At 4 index, letter is e\n"
     ]
    }
   ],
   "source": [
    "count = 0 \n",
    "\n",
    "for letter in 'abcde':\n",
    "    print('At {} index, letter is {}'.format(count,letter))\n",
    "    count += 1"
   ]
  },
  {
   "cell_type": "code",
   "execution_count": 7,
   "id": "8203d430",
   "metadata": {},
   "outputs": [
    {
     "name": "stdout",
     "output_type": "stream",
     "text": [
      "At 0 index, letter is a\n",
      "At 1 index, letter is b\n",
      "At 2 index, letter is c\n",
      "At 3 index, letter is d\n",
      "At 4 index, letter is e\n"
     ]
    }
   ],
   "source": [
    "for x, letter in enumerate('abcde'):\n",
    "    print('At {} index, letter is {}'.format(x,letter))"
   ]
  },
  {
   "cell_type": "markdown",
   "id": "ba46e323",
   "metadata": {},
   "source": [
    "# Zip"
   ]
  },
  {
   "cell_type": "code",
   "execution_count": 8,
   "id": "087cf493",
   "metadata": {},
   "outputs": [
    {
     "data": {
      "text/plain": [
       "<zip at 0x2a3bbc5c300>"
      ]
     },
     "execution_count": 8,
     "metadata": {},
     "output_type": "execute_result"
    }
   ],
   "source": [
    "lst1 = [1,2,3,4,5]\n",
    "lst2 = ['a','b','c','d','e']\n",
    "zip(lst1,lst2)"
   ]
  },
  {
   "cell_type": "code",
   "execution_count": 9,
   "id": "83d5b09d",
   "metadata": {},
   "outputs": [
    {
     "data": {
      "text/plain": [
       "[(1, 'a'), (2, 'b'), (3, 'c'), (4, 'd'), (5, 'e')]"
      ]
     },
     "execution_count": 9,
     "metadata": {},
     "output_type": "execute_result"
    }
   ],
   "source": [
    "list(zip(lst1,lst2))"
   ]
  },
  {
   "cell_type": "code",
   "execution_count": 11,
   "id": "e06da5a6",
   "metadata": {},
   "outputs": [
    {
     "name": "stdout",
     "output_type": "stream",
     "text": [
      "first item was 1 and second item was a\n",
      "first item was 2 and second item was b\n",
      "first item was 3 and second item was c\n",
      "first item was 4 and second item was d\n",
      "first item was 5 and second item was e\n"
     ]
    }
   ],
   "source": [
    "for i1, i2 in zip(lst1,lst2):\n",
    "    print('first item was {} and second item was {}'.format(i1,i2))"
   ]
  },
  {
   "cell_type": "markdown",
   "id": "6bdaffca",
   "metadata": {},
   "source": [
    "# In"
   ]
  },
  {
   "cell_type": "code",
   "execution_count": 12,
   "id": "d45d7b59",
   "metadata": {},
   "outputs": [
    {
     "data": {
      "text/plain": [
       "True"
      ]
     },
     "execution_count": 12,
     "metadata": {},
     "output_type": "execute_result"
    }
   ],
   "source": [
    "'rbpl' in ['iitr','dapp','rbpl','data']"
   ]
  },
  {
   "cell_type": "code",
   "execution_count": 13,
   "id": "0de13528",
   "metadata": {},
   "outputs": [
    {
     "data": {
      "text/plain": [
       "False"
      ]
     },
     "execution_count": 13,
     "metadata": {},
     "output_type": "execute_result"
    }
   ],
   "source": [
    "45 in ['iitr','dapp','rbpl','data']"
   ]
  },
  {
   "cell_type": "code",
   "execution_count": 14,
   "id": "959bd7ed",
   "metadata": {},
   "outputs": [
    {
     "data": {
      "text/plain": [
       "True"
      ]
     },
     "execution_count": 14,
     "metadata": {},
     "output_type": "execute_result"
    }
   ],
   "source": [
    "45 in ['iitr','dapp','rbpl','data', 45]"
   ]
  },
  {
   "cell_type": "markdown",
   "id": "7bf873ba",
   "metadata": {},
   "source": [
    "# Not In"
   ]
  },
  {
   "cell_type": "code",
   "execution_count": 15,
   "id": "0e52114d",
   "metadata": {},
   "outputs": [
    {
     "data": {
      "text/plain": [
       "False"
      ]
     },
     "execution_count": 15,
     "metadata": {},
     "output_type": "execute_result"
    }
   ],
   "source": [
    "'rbpl' not in ['iitr','dapp','rbpl','data']"
   ]
  },
  {
   "cell_type": "code",
   "execution_count": 16,
   "id": "c4e87124",
   "metadata": {},
   "outputs": [
    {
     "data": {
      "text/plain": [
       "True"
      ]
     },
     "execution_count": 16,
     "metadata": {},
     "output_type": "execute_result"
    }
   ],
   "source": [
    "45 not in ['iitr','dapp','rbpl','data']"
   ]
  },
  {
   "cell_type": "code",
   "execution_count": 17,
   "id": "599db092",
   "metadata": {},
   "outputs": [
    {
     "data": {
      "text/plain": [
       "False"
      ]
     },
     "execution_count": 17,
     "metadata": {},
     "output_type": "execute_result"
    }
   ],
   "source": [
    "45 not in ['iitr','dapp','rbpl','data', 45]"
   ]
  },
  {
   "cell_type": "code",
   "execution_count": 19,
   "id": "9f4c85a8",
   "metadata": {},
   "outputs": [
    {
     "data": {
      "text/plain": [
       "[0, 10, 20, 30, 40, 50, 60, 70, 80, 90, 100]"
      ]
     },
     "execution_count": 19,
     "metadata": {},
     "output_type": "execute_result"
    }
   ],
   "source": [
    "xy"
   ]
  },
  {
   "cell_type": "markdown",
   "id": "186c183d",
   "metadata": {},
   "source": [
    "# Min and Max"
   ]
  },
  {
   "cell_type": "code",
   "execution_count": 20,
   "id": "87eedd12",
   "metadata": {},
   "outputs": [
    {
     "data": {
      "text/plain": [
       "0"
      ]
     },
     "execution_count": 20,
     "metadata": {},
     "output_type": "execute_result"
    }
   ],
   "source": [
    "min(xy)"
   ]
  },
  {
   "cell_type": "code",
   "execution_count": 21,
   "id": "8fafd5cb",
   "metadata": {},
   "outputs": [
    {
     "data": {
      "text/plain": [
       "100"
      ]
     },
     "execution_count": 21,
     "metadata": {},
     "output_type": "execute_result"
    }
   ],
   "source": [
    "max(xy)"
   ]
  },
  {
   "cell_type": "markdown",
   "id": "905121b4",
   "metadata": {},
   "source": [
    "# Random"
   ]
  },
  {
   "cell_type": "code",
   "execution_count": 25,
   "id": "27cba438",
   "metadata": {},
   "outputs": [],
   "source": [
    "from random import shuffle, randint"
   ]
  },
  {
   "cell_type": "code",
   "execution_count": 23,
   "id": "8d5c5572",
   "metadata": {},
   "outputs": [],
   "source": [
    "shuffle(xy) #'in-place'"
   ]
  },
  {
   "cell_type": "code",
   "execution_count": 24,
   "id": "944f2112",
   "metadata": {},
   "outputs": [
    {
     "data": {
      "text/plain": [
       "[90, 50, 100, 20, 40, 80, 30, 0, 60, 10, 70]"
      ]
     },
     "execution_count": 24,
     "metadata": {},
     "output_type": "execute_result"
    }
   ],
   "source": [
    "xy"
   ]
  },
  {
   "cell_type": "code",
   "execution_count": 28,
   "id": "e3e8b379",
   "metadata": {},
   "outputs": [
    {
     "data": {
      "text/plain": [
       "68"
      ]
     },
     "execution_count": 28,
     "metadata": {},
     "output_type": "execute_result"
    }
   ],
   "source": [
    "randint(34,98)"
   ]
  },
  {
   "cell_type": "code",
   "execution_count": 29,
   "id": "c78d35ea",
   "metadata": {},
   "outputs": [],
   "source": [
    "#Numpy, Pandas, MatplotLib, Seaborn"
   ]
  },
  {
   "cell_type": "code",
   "execution_count": null,
   "id": "c19f92b6",
   "metadata": {},
   "outputs": [],
   "source": []
  }
 ],
 "metadata": {
  "kernelspec": {
   "display_name": "Python 3 (ipykernel)",
   "language": "python",
   "name": "python3"
  },
  "language_info": {
   "codemirror_mode": {
    "name": "ipython",
    "version": 3
   },
   "file_extension": ".py",
   "mimetype": "text/x-python",
   "name": "python",
   "nbconvert_exporter": "python",
   "pygments_lexer": "ipython3",
   "version": "3.11.3"
  }
 },
 "nbformat": 4,
 "nbformat_minor": 5
}
