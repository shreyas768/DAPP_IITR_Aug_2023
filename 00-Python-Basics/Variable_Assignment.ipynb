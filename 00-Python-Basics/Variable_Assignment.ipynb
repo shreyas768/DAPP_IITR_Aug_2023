{
 "cells": [
  {
   "cell_type": "code",
   "execution_count": 72,
   "id": "4479e371",
   "metadata": {},
   "outputs": [],
   "source": [
    "x=90*48"
   ]
  },
  {
   "cell_type": "code",
   "execution_count": 73,
   "id": "06486ea6",
   "metadata": {},
   "outputs": [
    {
     "data": {
      "text/plain": [
       "4320"
      ]
     },
     "execution_count": 73,
     "metadata": {},
     "output_type": "execute_result"
    }
   ],
   "source": [
    "x"
   ]
  },
  {
   "cell_type": "code",
   "execution_count": 74,
   "id": "792198b3",
   "metadata": {},
   "outputs": [],
   "source": [
    "x = x + x"
   ]
  },
  {
   "cell_type": "code",
   "execution_count": 75,
   "id": "83dbd1d6",
   "metadata": {},
   "outputs": [
    {
     "data": {
      "text/plain": [
       "8640"
      ]
     },
     "execution_count": 75,
     "metadata": {},
     "output_type": "execute_result"
    }
   ],
   "source": [
    "x"
   ]
  },
  {
   "cell_type": "code",
   "execution_count": 76,
   "id": "dbf3426d",
   "metadata": {},
   "outputs": [
    {
     "data": {
      "text/plain": [
       "8650"
      ]
     },
     "execution_count": 76,
     "metadata": {},
     "output_type": "execute_result"
    }
   ],
   "source": [
    "x+10"
   ]
  },
  {
   "cell_type": "code",
   "execution_count": 77,
   "id": "43e9cd75",
   "metadata": {},
   "outputs": [],
   "source": [
    "amount = 100\n",
    "tax_rate = 0.1\n",
    "\n",
    "total_tax = tax_rate*amount"
   ]
  },
  {
   "cell_type": "code",
   "execution_count": 78,
   "id": "4f808cbb",
   "metadata": {},
   "outputs": [
    {
     "data": {
      "text/plain": [
       "10.0"
      ]
     },
     "execution_count": 78,
     "metadata": {},
     "output_type": "execute_result"
    }
   ],
   "source": [
    "total_tax"
   ]
  },
  {
   "cell_type": "code",
   "execution_count": 79,
   "id": "f9b7183f",
   "metadata": {},
   "outputs": [],
   "source": [
    "x += 30"
   ]
  },
  {
   "cell_type": "code",
   "execution_count": 80,
   "id": "b6569169",
   "metadata": {},
   "outputs": [
    {
     "data": {
      "text/plain": [
       "8670"
      ]
     },
     "execution_count": 80,
     "metadata": {},
     "output_type": "execute_result"
    }
   ],
   "source": [
    "x"
   ]
  },
  {
   "cell_type": "code",
   "execution_count": 81,
   "id": "aa510656",
   "metadata": {},
   "outputs": [],
   "source": [
    "x -= 30"
   ]
  },
  {
   "cell_type": "code",
   "execution_count": 82,
   "id": "2fac4247",
   "metadata": {},
   "outputs": [
    {
     "data": {
      "text/plain": [
       "8640"
      ]
     },
     "execution_count": 82,
     "metadata": {},
     "output_type": "execute_result"
    }
   ],
   "source": [
    "x"
   ]
  },
  {
   "cell_type": "code",
   "execution_count": 83,
   "id": "2118b990",
   "metadata": {},
   "outputs": [],
   "source": [
    "x *= 29"
   ]
  },
  {
   "cell_type": "code",
   "execution_count": 84,
   "id": "08a83799",
   "metadata": {},
   "outputs": [
    {
     "data": {
      "text/plain": [
       "250560"
      ]
     },
     "execution_count": 84,
     "metadata": {},
     "output_type": "execute_result"
    }
   ],
   "source": [
    "x"
   ]
  },
  {
   "cell_type": "code",
   "execution_count": 85,
   "id": "563fbb13",
   "metadata": {},
   "outputs": [],
   "source": [
    "x /= 4"
   ]
  },
  {
   "cell_type": "code",
   "execution_count": 86,
   "id": "cf024e15",
   "metadata": {},
   "outputs": [
    {
     "data": {
      "text/plain": [
       "62640.0"
      ]
     },
     "execution_count": 86,
     "metadata": {},
     "output_type": "execute_result"
    }
   ],
   "source": [
    "x"
   ]
  },
  {
   "cell_type": "code",
   "execution_count": 87,
   "id": "bf8a3040",
   "metadata": {},
   "outputs": [],
   "source": [
    "a = 'Shreyas'"
   ]
  },
  {
   "cell_type": "code",
   "execution_count": 88,
   "id": "38038d07",
   "metadata": {},
   "outputs": [
    {
     "data": {
      "text/plain": [
       "str"
      ]
     },
     "execution_count": 88,
     "metadata": {},
     "output_type": "execute_result"
    }
   ],
   "source": [
    "type(a)"
   ]
  },
  {
   "cell_type": "code",
   "execution_count": 89,
   "id": "177bde86",
   "metadata": {},
   "outputs": [],
   "source": [
    "b = 1.89"
   ]
  },
  {
   "cell_type": "code",
   "execution_count": 90,
   "id": "bce1b167",
   "metadata": {},
   "outputs": [
    {
     "data": {
      "text/plain": [
       "float"
      ]
     },
     "execution_count": 90,
     "metadata": {},
     "output_type": "execute_result"
    }
   ],
   "source": [
    "type(b)"
   ]
  },
  {
   "cell_type": "code",
   "execution_count": 91,
   "id": "24869a5a",
   "metadata": {},
   "outputs": [],
   "source": [
    "csjdfjdkvkjdnvdvsnk = False"
   ]
  },
  {
   "cell_type": "code",
   "execution_count": 92,
   "id": "cb201e8c",
   "metadata": {},
   "outputs": [
    {
     "data": {
      "text/plain": [
       "bool"
      ]
     },
     "execution_count": 92,
     "metadata": {},
     "output_type": "execute_result"
    }
   ],
   "source": [
    "type(csjdfjdkvkjdnvdvsnk)"
   ]
  },
  {
   "cell_type": "code",
   "execution_count": 93,
   "id": "a8054783",
   "metadata": {},
   "outputs": [],
   "source": [
    "t = (2,'hello')"
   ]
  },
  {
   "cell_type": "code",
   "execution_count": 94,
   "id": "d25646b5",
   "metadata": {},
   "outputs": [
    {
     "data": {
      "text/plain": [
       "tuple"
      ]
     },
     "execution_count": 94,
     "metadata": {},
     "output_type": "execute_result"
    }
   ],
   "source": [
    "type(t)"
   ]
  },
  {
   "cell_type": "code",
   "execution_count": 95,
   "id": "6a761d6d",
   "metadata": {},
   "outputs": [],
   "source": [
    "My_Name = 2"
   ]
  },
  {
   "cell_type": "code",
   "execution_count": 96,
   "id": "ec71be00",
   "metadata": {},
   "outputs": [
    {
     "data": {
      "text/plain": [
       "2"
      ]
     },
     "execution_count": 96,
     "metadata": {},
     "output_type": "execute_result"
    }
   ],
   "source": [
    "My_Name"
   ]
  },
  {
   "cell_type": "code",
   "execution_count": 97,
   "id": "372831df",
   "metadata": {},
   "outputs": [],
   "source": [
    "My_Name = [ 'Shreyas' ,  'Steve' ]"
   ]
  },
  {
   "cell_type": "code",
   "execution_count": 98,
   "id": "039ff3df",
   "metadata": {},
   "outputs": [
    {
     "data": {
      "text/plain": [
       "['Shreyas', 'Steve']"
      ]
     },
     "execution_count": 98,
     "metadata": {},
     "output_type": "execute_result"
    }
   ],
   "source": [
    "My_Name"
   ]
  },
  {
   "cell_type": "code",
   "execution_count": null,
   "id": "b47fe0e4",
   "metadata": {},
   "outputs": [],
   "source": []
  }
 ],
 "metadata": {
  "kernelspec": {
   "display_name": "Python 3 (ipykernel)",
   "language": "python",
   "name": "python3"
  },
  "language_info": {
   "codemirror_mode": {
    "name": "ipython",
    "version": 3
   },
   "file_extension": ".py",
   "mimetype": "text/x-python",
   "name": "python",
   "nbconvert_exporter": "python",
   "pygments_lexer": "ipython3",
   "version": "3.11.3"
  }
 },
 "nbformat": 4,
 "nbformat_minor": 5
}
