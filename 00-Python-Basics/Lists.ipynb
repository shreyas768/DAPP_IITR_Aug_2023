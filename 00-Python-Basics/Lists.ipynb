{
 "cells": [
  {
   "cell_type": "code",
   "execution_count": 2,
   "id": "24d8a23b",
   "metadata": {},
   "outputs": [],
   "source": [
    "list1 = [1,2,3,4,5]"
   ]
  },
  {
   "cell_type": "code",
   "execution_count": 4,
   "id": "1ce53dab",
   "metadata": {},
   "outputs": [],
   "source": [
    "diff_obj = ['string',23,10.32,True]"
   ]
  },
  {
   "cell_type": "code",
   "execution_count": 5,
   "id": "cc89d07f",
   "metadata": {},
   "outputs": [
    {
     "data": {
      "text/plain": [
       "5"
      ]
     },
     "execution_count": 5,
     "metadata": {},
     "output_type": "execute_result"
    }
   ],
   "source": [
    "len(list1)"
   ]
  },
  {
   "cell_type": "code",
   "execution_count": 6,
   "id": "eb59f243",
   "metadata": {},
   "outputs": [
    {
     "data": {
      "text/plain": [
       "4"
      ]
     },
     "execution_count": 6,
     "metadata": {},
     "output_type": "execute_result"
    }
   ],
   "source": [
    "len(diff_obj)"
   ]
  },
  {
   "cell_type": "markdown",
   "id": "aa840455",
   "metadata": {},
   "source": [
    "# Indexing and Slicing"
   ]
  },
  {
   "cell_type": "code",
   "execution_count": 7,
   "id": "93a5e2de",
   "metadata": {},
   "outputs": [
    {
     "data": {
      "text/plain": [
       "10.32"
      ]
     },
     "execution_count": 7,
     "metadata": {},
     "output_type": "execute_result"
    }
   ],
   "source": [
    "diff_obj[2]"
   ]
  },
  {
   "cell_type": "code",
   "execution_count": 8,
   "id": "75c5bfb1",
   "metadata": {},
   "outputs": [
    {
     "data": {
      "text/plain": [
       "[23, 10.32, True]"
      ]
     },
     "execution_count": 8,
     "metadata": {},
     "output_type": "execute_result"
    }
   ],
   "source": [
    "diff_obj[1:]"
   ]
  },
  {
   "cell_type": "code",
   "execution_count": 9,
   "id": "efffdbee",
   "metadata": {},
   "outputs": [
    {
     "data": {
      "text/plain": [
       "['string', 23, 10.32]"
      ]
     },
     "execution_count": 9,
     "metadata": {},
     "output_type": "execute_result"
    }
   ],
   "source": [
    "diff_obj[:3]"
   ]
  },
  {
   "cell_type": "code",
   "execution_count": 11,
   "id": "1a86f679",
   "metadata": {},
   "outputs": [
    {
     "data": {
      "text/plain": [
       "['string', 23, 10.32, True, 'new item added']"
      ]
     },
     "execution_count": 11,
     "metadata": {},
     "output_type": "execute_result"
    }
   ],
   "source": [
    "#concatenate lists\n",
    "diff_obj + ['new item added']"
   ]
  },
  {
   "cell_type": "code",
   "execution_count": 12,
   "id": "81f5fc3b",
   "metadata": {},
   "outputs": [
    {
     "data": {
      "text/plain": [
       "['string', 23, 10.32, True]"
      ]
     },
     "execution_count": 12,
     "metadata": {},
     "output_type": "execute_result"
    }
   ],
   "source": [
    "diff_obj"
   ]
  },
  {
   "cell_type": "code",
   "execution_count": 13,
   "id": "a27bfa46",
   "metadata": {},
   "outputs": [],
   "source": [
    "new_diff_obj =diff_obj + ['new item added']"
   ]
  },
  {
   "cell_type": "code",
   "execution_count": 14,
   "id": "70b9ebb5",
   "metadata": {},
   "outputs": [
    {
     "data": {
      "text/plain": [
       "['string', 23, 10.32, True, 'new item added']"
      ]
     },
     "execution_count": 14,
     "metadata": {},
     "output_type": "execute_result"
    }
   ],
   "source": [
    "new_diff_obj"
   ]
  },
  {
   "cell_type": "code",
   "execution_count": 17,
   "id": "aed8f7ab",
   "metadata": {},
   "outputs": [
    {
     "data": {
      "text/plain": [
       "['string',\n",
       " 23,\n",
       " 10.32,\n",
       " True,\n",
       " 'string',\n",
       " 23,\n",
       " 10.32,\n",
       " True,\n",
       " 'string',\n",
       " 23,\n",
       " 10.32,\n",
       " True]"
      ]
     },
     "execution_count": 17,
     "metadata": {},
     "output_type": "execute_result"
    }
   ],
   "source": [
    "diff_obj*3"
   ]
  },
  {
   "cell_type": "markdown",
   "id": "1e74c68b",
   "metadata": {},
   "source": [
    "# Basic Methods"
   ]
  },
  {
   "cell_type": "code",
   "execution_count": 19,
   "id": "15aa686c",
   "metadata": {},
   "outputs": [],
   "source": [
    "#append\n",
    "diff_obj.append(34.98)"
   ]
  },
  {
   "cell_type": "code",
   "execution_count": 21,
   "id": "42f430cc",
   "metadata": {},
   "outputs": [],
   "source": [
    "diff_obj.append('appended')"
   ]
  },
  {
   "cell_type": "code",
   "execution_count": 22,
   "id": "0d0176d6",
   "metadata": {},
   "outputs": [
    {
     "data": {
      "text/plain": [
       "['string', 23, 10.32, True, 34.98, 'appended']"
      ]
     },
     "execution_count": 22,
     "metadata": {},
     "output_type": "execute_result"
    }
   ],
   "source": [
    "diff_obj"
   ]
  },
  {
   "cell_type": "code",
   "execution_count": 23,
   "id": "4d360a9b",
   "metadata": {},
   "outputs": [
    {
     "data": {
      "text/plain": [
       "'appended'"
      ]
     },
     "execution_count": 23,
     "metadata": {},
     "output_type": "execute_result"
    }
   ],
   "source": [
    "#pop\n",
    "diff_obj.pop()"
   ]
  },
  {
   "cell_type": "code",
   "execution_count": 24,
   "id": "22d8bf72",
   "metadata": {},
   "outputs": [
    {
     "data": {
      "text/plain": [
       "['string', 23, 10.32, True, 34.98]"
      ]
     },
     "execution_count": 24,
     "metadata": {},
     "output_type": "execute_result"
    }
   ],
   "source": [
    "diff_obj"
   ]
  },
  {
   "cell_type": "code",
   "execution_count": 25,
   "id": "b2e836c0",
   "metadata": {},
   "outputs": [
    {
     "data": {
      "text/plain": [
       "10.32"
      ]
     },
     "execution_count": 25,
     "metadata": {},
     "output_type": "execute_result"
    }
   ],
   "source": [
    "diff_obj.pop(2)"
   ]
  },
  {
   "cell_type": "code",
   "execution_count": 26,
   "id": "051b95f7",
   "metadata": {},
   "outputs": [
    {
     "data": {
      "text/plain": [
       "['string', 23, True, 34.98]"
      ]
     },
     "execution_count": 26,
     "metadata": {},
     "output_type": "execute_result"
    }
   ],
   "source": [
    "diff_obj"
   ]
  },
  {
   "cell_type": "code",
   "execution_count": 27,
   "id": "9ec8a3eb",
   "metadata": {},
   "outputs": [
    {
     "ename": "IndexError",
     "evalue": "list index out of range",
     "output_type": "error",
     "traceback": [
      "\u001b[1;31m---------------------------------------------------------------------------\u001b[0m",
      "\u001b[1;31mIndexError\u001b[0m                                Traceback (most recent call last)",
      "Cell \u001b[1;32mIn[27], line 1\u001b[0m\n\u001b[1;32m----> 1\u001b[0m diff_obj[\u001b[38;5;241m4\u001b[39m]\n",
      "\u001b[1;31mIndexError\u001b[0m: list index out of range"
     ]
    }
   ],
   "source": [
    "diff_obj[4]"
   ]
  },
  {
   "cell_type": "code",
   "execution_count": 28,
   "id": "92963cd8",
   "metadata": {},
   "outputs": [],
   "source": [
    "#sort\n",
    "\n",
    "s_list = ['a','t','b','z','d']"
   ]
  },
  {
   "cell_type": "code",
   "execution_count": 29,
   "id": "9174a2f7",
   "metadata": {},
   "outputs": [
    {
     "data": {
      "text/plain": [
       "['a', 't', 'b', 'z', 'd']"
      ]
     },
     "execution_count": 29,
     "metadata": {},
     "output_type": "execute_result"
    }
   ],
   "source": [
    "s_list"
   ]
  },
  {
   "cell_type": "code",
   "execution_count": 30,
   "id": "21fd7bbc",
   "metadata": {},
   "outputs": [],
   "source": [
    "s_list.sort()"
   ]
  },
  {
   "cell_type": "code",
   "execution_count": 31,
   "id": "bc690a50",
   "metadata": {},
   "outputs": [
    {
     "data": {
      "text/plain": [
       "['a', 'b', 'd', 't', 'z']"
      ]
     },
     "execution_count": 31,
     "metadata": {},
     "output_type": "execute_result"
    }
   ],
   "source": [
    "s_list"
   ]
  },
  {
   "cell_type": "code",
   "execution_count": 36,
   "id": "f35e08e6",
   "metadata": {},
   "outputs": [],
   "source": [
    "s_list.reverse()"
   ]
  },
  {
   "cell_type": "code",
   "execution_count": 37,
   "id": "98af57eb",
   "metadata": {},
   "outputs": [
    {
     "data": {
      "text/plain": [
       "['z', 't', 'd', 'b', 'a']"
      ]
     },
     "execution_count": 37,
     "metadata": {},
     "output_type": "execute_result"
    }
   ],
   "source": [
    "s_list"
   ]
  },
  {
   "cell_type": "code",
   "execution_count": 38,
   "id": "22204a5d",
   "metadata": {},
   "outputs": [],
   "source": [
    "sortd = s_list.sort()\n",
    "sortd"
   ]
  },
  {
   "cell_type": "code",
   "execution_count": 39,
   "id": "c6bd6c6b",
   "metadata": {},
   "outputs": [],
   "source": [
    "sortd"
   ]
  },
  {
   "cell_type": "code",
   "execution_count": 40,
   "id": "a6c551ef",
   "metadata": {},
   "outputs": [
    {
     "data": {
      "text/plain": [
       "NoneType"
      ]
     },
     "execution_count": 40,
     "metadata": {},
     "output_type": "execute_result"
    }
   ],
   "source": [
    "type(sortd)"
   ]
  },
  {
   "cell_type": "code",
   "execution_count": 41,
   "id": "0348f590",
   "metadata": {},
   "outputs": [],
   "source": [
    "num = [2,56,32,10902,2323]"
   ]
  },
  {
   "cell_type": "code",
   "execution_count": 55,
   "id": "4953e085",
   "metadata": {},
   "outputs": [],
   "source": [
    "num[0] = 32190328109"
   ]
  },
  {
   "cell_type": "code",
   "execution_count": 56,
   "id": "dcd0ca84",
   "metadata": {},
   "outputs": [],
   "source": [
    "num.sort()"
   ]
  },
  {
   "cell_type": "code",
   "execution_count": 57,
   "id": "64da5503",
   "metadata": {},
   "outputs": [
    {
     "data": {
      "text/plain": [
       "[2, 32, 56, 2323, 32190328109]"
      ]
     },
     "execution_count": 57,
     "metadata": {},
     "output_type": "execute_result"
    }
   ],
   "source": [
    "num"
   ]
  },
  {
   "cell_type": "code",
   "execution_count": 58,
   "id": "1d8f3e1f",
   "metadata": {},
   "outputs": [],
   "source": [
    "num.reverse()"
   ]
  },
  {
   "cell_type": "code",
   "execution_count": 59,
   "id": "91352fd6",
   "metadata": {},
   "outputs": [
    {
     "data": {
      "text/plain": [
       "[32190328109, 2323, 56, 32, 2]"
      ]
     },
     "execution_count": 59,
     "metadata": {},
     "output_type": "execute_result"
    }
   ],
   "source": [
    "num"
   ]
  },
  {
   "cell_type": "markdown",
   "id": "1b5666cb",
   "metadata": {},
   "source": [
    "# Nested Lists"
   ]
  },
  {
   "cell_type": "code",
   "execution_count": 47,
   "id": "825661aa",
   "metadata": {},
   "outputs": [],
   "source": [
    "lst1 = [1,2,3]\n",
    "lst2 = [4,5,6]\n",
    "lst3 = [7,8,9]\n",
    "\n",
    "matrix = [lst1,lst2,lst3]"
   ]
  },
  {
   "cell_type": "code",
   "execution_count": 48,
   "id": "062975f2",
   "metadata": {},
   "outputs": [
    {
     "data": {
      "text/plain": [
       "[[1, 2, 3], [4, 5, 6], [7, 8, 9]]"
      ]
     },
     "execution_count": 48,
     "metadata": {},
     "output_type": "execute_result"
    }
   ],
   "source": [
    "matrix"
   ]
  },
  {
   "cell_type": "code",
   "execution_count": 49,
   "id": "4a081326",
   "metadata": {},
   "outputs": [
    {
     "data": {
      "text/plain": [
       "[7, 8, 9]"
      ]
     },
     "execution_count": 49,
     "metadata": {},
     "output_type": "execute_result"
    }
   ],
   "source": [
    "matrix[2]"
   ]
  },
  {
   "cell_type": "code",
   "execution_count": 50,
   "id": "06cc56c5",
   "metadata": {},
   "outputs": [
    {
     "data": {
      "text/plain": [
       "7"
      ]
     },
     "execution_count": 50,
     "metadata": {},
     "output_type": "execute_result"
    }
   ],
   "source": [
    "matrix[2][0]"
   ]
  },
  {
   "cell_type": "markdown",
   "id": "72b3e1b0",
   "metadata": {},
   "source": [
    "# List Comprehensions"
   ]
  },
  {
   "cell_type": "code",
   "execution_count": 53,
   "id": "c69840d7",
   "metadata": {},
   "outputs": [],
   "source": [
    "var = [x[1] for x in matrix]"
   ]
  },
  {
   "cell_type": "code",
   "execution_count": 54,
   "id": "0b018b7f",
   "metadata": {},
   "outputs": [
    {
     "data": {
      "text/plain": [
       "[2, 5, 8]"
      ]
     },
     "execution_count": 54,
     "metadata": {},
     "output_type": "execute_result"
    }
   ],
   "source": [
    "var"
   ]
  },
  {
   "cell_type": "code",
   "execution_count": null,
   "id": "b8090a40",
   "metadata": {},
   "outputs": [],
   "source": []
  }
 ],
 "metadata": {
  "kernelspec": {
   "display_name": "Python 3 (ipykernel)",
   "language": "python",
   "name": "python3"
  },
  "language_info": {
   "codemirror_mode": {
    "name": "ipython",
    "version": 3
   },
   "file_extension": ".py",
   "mimetype": "text/x-python",
   "name": "python",
   "nbconvert_exporter": "python",
   "pygments_lexer": "ipython3",
   "version": "3.11.3"
  }
 },
 "nbformat": 4,
 "nbformat_minor": 5
}
