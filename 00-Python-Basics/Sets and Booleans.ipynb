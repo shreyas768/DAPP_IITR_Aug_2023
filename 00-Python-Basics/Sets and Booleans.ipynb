{
 "cells": [
  {
   "cell_type": "code",
   "execution_count": 1,
   "id": "13ea9c51",
   "metadata": {},
   "outputs": [],
   "source": [
    "#unordered collection of unique elements\n",
    "a = set()"
   ]
  },
  {
   "cell_type": "code",
   "execution_count": 3,
   "id": "e3117cc1",
   "metadata": {},
   "outputs": [],
   "source": [
    "a.add(89)"
   ]
  },
  {
   "cell_type": "code",
   "execution_count": 4,
   "id": "00710124",
   "metadata": {},
   "outputs": [
    {
     "data": {
      "text/plain": [
       "{89}"
      ]
     },
     "execution_count": 4,
     "metadata": {},
     "output_type": "execute_result"
    }
   ],
   "source": [
    "a"
   ]
  },
  {
   "cell_type": "code",
   "execution_count": 5,
   "id": "e5943882",
   "metadata": {},
   "outputs": [],
   "source": [
    "a.add(76)"
   ]
  },
  {
   "cell_type": "code",
   "execution_count": 6,
   "id": "83d12b5e",
   "metadata": {},
   "outputs": [
    {
     "data": {
      "text/plain": [
       "{76, 89}"
      ]
     },
     "execution_count": 6,
     "metadata": {},
     "output_type": "execute_result"
    }
   ],
   "source": [
    "a"
   ]
  },
  {
   "cell_type": "code",
   "execution_count": 7,
   "id": "b2183d62",
   "metadata": {},
   "outputs": [],
   "source": [
    "a.add(89)"
   ]
  },
  {
   "cell_type": "code",
   "execution_count": 8,
   "id": "126a4c6d",
   "metadata": {},
   "outputs": [
    {
     "data": {
      "text/plain": [
       "{76, 89}"
      ]
     },
     "execution_count": 8,
     "metadata": {},
     "output_type": "execute_result"
    }
   ],
   "source": [
    "a"
   ]
  },
  {
   "cell_type": "code",
   "execution_count": 9,
   "id": "6cea46c6",
   "metadata": {},
   "outputs": [],
   "source": [
    "lst = [1,2,1,4,5,2,78,109,5]"
   ]
  },
  {
   "cell_type": "code",
   "execution_count": 10,
   "id": "34589bd7",
   "metadata": {},
   "outputs": [
    {
     "data": {
      "text/plain": [
       "[1, 2, 1, 4, 5, 2, 78, 109, 5]"
      ]
     },
     "execution_count": 10,
     "metadata": {},
     "output_type": "execute_result"
    }
   ],
   "source": [
    "lst"
   ]
  },
  {
   "cell_type": "code",
   "execution_count": 12,
   "id": "c3370a69",
   "metadata": {},
   "outputs": [],
   "source": [
    "#cast as a set\n",
    "var1 = set(lst)"
   ]
  },
  {
   "cell_type": "code",
   "execution_count": 13,
   "id": "79390283",
   "metadata": {},
   "outputs": [
    {
     "data": {
      "text/plain": [
       "{1, 2, 4, 5, 78, 109}"
      ]
     },
     "execution_count": 13,
     "metadata": {},
     "output_type": "execute_result"
    }
   ],
   "source": [
    "var1"
   ]
  },
  {
   "cell_type": "code",
   "execution_count": 19,
   "id": "7b3e3820",
   "metadata": {},
   "outputs": [],
   "source": [
    "lst1 = ['hi',34,'hi',12,'hello',True,True,False]"
   ]
  },
  {
   "cell_type": "code",
   "execution_count": 20,
   "id": "b3b7efda",
   "metadata": {},
   "outputs": [],
   "source": [
    "x = set(lst1)"
   ]
  },
  {
   "cell_type": "code",
   "execution_count": 22,
   "id": "13b09647",
   "metadata": {},
   "outputs": [],
   "source": [
    "x.add(13)"
   ]
  },
  {
   "cell_type": "code",
   "execution_count": 24,
   "id": "45e4b3c1",
   "metadata": {},
   "outputs": [
    {
     "data": {
      "text/plain": [
       "{12, 13, 34, False, True, 'hello', 'hi'}"
      ]
     },
     "execution_count": 24,
     "metadata": {},
     "output_type": "execute_result"
    }
   ],
   "source": [
    "x"
   ]
  },
  {
   "cell_type": "markdown",
   "id": "dd82744f",
   "metadata": {},
   "source": [
    "# Booleans"
   ]
  },
  {
   "cell_type": "code",
   "execution_count": 25,
   "id": "b592f3b6",
   "metadata": {},
   "outputs": [],
   "source": [
    "y = True"
   ]
  },
  {
   "cell_type": "code",
   "execution_count": 26,
   "id": "c252b496",
   "metadata": {},
   "outputs": [
    {
     "data": {
      "text/plain": [
       "True"
      ]
     },
     "execution_count": 26,
     "metadata": {},
     "output_type": "execute_result"
    }
   ],
   "source": [
    "y"
   ]
  },
  {
   "cell_type": "code",
   "execution_count": 27,
   "id": "31007248",
   "metadata": {},
   "outputs": [
    {
     "data": {
      "text/plain": [
       "True"
      ]
     },
     "execution_count": 27,
     "metadata": {},
     "output_type": "execute_result"
    }
   ],
   "source": [
    "4 < 9 "
   ]
  },
  {
   "cell_type": "code",
   "execution_count": 28,
   "id": "336fabd6",
   "metadata": {},
   "outputs": [
    {
     "data": {
      "text/plain": [
       "False"
      ]
     },
     "execution_count": 28,
     "metadata": {},
     "output_type": "execute_result"
    }
   ],
   "source": [
    "4 > 9 "
   ]
  },
  {
   "cell_type": "code",
   "execution_count": 29,
   "id": "6be31d00",
   "metadata": {},
   "outputs": [
    {
     "data": {
      "text/plain": [
       "bool"
      ]
     },
     "execution_count": 29,
     "metadata": {},
     "output_type": "execute_result"
    }
   ],
   "source": [
    "type(4 < 9)"
   ]
  },
  {
   "cell_type": "code",
   "execution_count": 30,
   "id": "04a35fa3",
   "metadata": {},
   "outputs": [
    {
     "data": {
      "text/plain": [
       "bool"
      ]
     },
     "execution_count": 30,
     "metadata": {},
     "output_type": "execute_result"
    }
   ],
   "source": [
    "type(4 > 9)"
   ]
  },
  {
   "cell_type": "code",
   "execution_count": 31,
   "id": "e107c6f3",
   "metadata": {},
   "outputs": [],
   "source": [
    "b = None"
   ]
  },
  {
   "cell_type": "code",
   "execution_count": 32,
   "id": "e3357397",
   "metadata": {},
   "outputs": [
    {
     "name": "stdout",
     "output_type": "stream",
     "text": [
      "None\n"
     ]
    }
   ],
   "source": [
    "print(b)"
   ]
  },
  {
   "cell_type": "code",
   "execution_count": null,
   "id": "2188a350",
   "metadata": {},
   "outputs": [],
   "source": []
  }
 ],
 "metadata": {
  "kernelspec": {
   "display_name": "Python 3 (ipykernel)",
   "language": "python",
   "name": "python3"
  },
  "language_info": {
   "codemirror_mode": {
    "name": "ipython",
    "version": 3
   },
   "file_extension": ".py",
   "mimetype": "text/x-python",
   "name": "python",
   "nbconvert_exporter": "python",
   "pygments_lexer": "ipython3",
   "version": "3.11.3"
  }
 },
 "nbformat": 4,
 "nbformat_minor": 5
}
