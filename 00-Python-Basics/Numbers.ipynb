{
 "cells": [
  {
   "cell_type": "markdown",
   "id": "41648516",
   "metadata": {},
   "source": [
    "# Basic Arithmetics"
   ]
  },
  {
   "cell_type": "code",
   "execution_count": 1,
   "id": "c26982a5",
   "metadata": {},
   "outputs": [
    {
     "data": {
      "text/plain": [
       "30"
      ]
     },
     "execution_count": 1,
     "metadata": {},
     "output_type": "execute_result"
    }
   ],
   "source": [
    "11+19"
   ]
  },
  {
   "cell_type": "code",
   "execution_count": 2,
   "id": "7db3e62c",
   "metadata": {},
   "outputs": [
    {
     "data": {
      "text/plain": [
       "764"
      ]
     },
     "execution_count": 2,
     "metadata": {},
     "output_type": "execute_result"
    }
   ],
   "source": [
    "987-223"
   ]
  },
  {
   "cell_type": "code",
   "execution_count": 3,
   "id": "13cf0e82",
   "metadata": {},
   "outputs": [
    {
     "data": {
      "text/plain": [
       "27024118"
      ]
     },
     "execution_count": 3,
     "metadata": {},
     "output_type": "execute_result"
    }
   ],
   "source": [
    "209*129302"
   ]
  },
  {
   "cell_type": "code",
   "execution_count": 5,
   "id": "48cb7b9b",
   "metadata": {},
   "outputs": [
    {
     "data": {
      "text/plain": [
       "7.5"
      ]
     },
     "execution_count": 5,
     "metadata": {},
     "output_type": "execute_result"
    }
   ],
   "source": [
    "15/2"
   ]
  },
  {
   "cell_type": "code",
   "execution_count": 6,
   "id": "81a1cd10",
   "metadata": {},
   "outputs": [
    {
     "data": {
      "text/plain": [
       "7"
      ]
     },
     "execution_count": 6,
     "metadata": {},
     "output_type": "execute_result"
    }
   ],
   "source": [
    "15//2 #Floor Division"
   ]
  },
  {
   "cell_type": "code",
   "execution_count": 7,
   "id": "4d93f3bf",
   "metadata": {},
   "outputs": [
    {
     "data": {
      "text/plain": [
       "1"
      ]
     },
     "execution_count": 7,
     "metadata": {},
     "output_type": "execute_result"
    }
   ],
   "source": [
    "#Modulo\n",
    "15%2"
   ]
  },
  {
   "cell_type": "code",
   "execution_count": 9,
   "id": "11dc64e9",
   "metadata": {},
   "outputs": [
    {
     "data": {
      "text/plain": [
       "11"
      ]
     },
     "execution_count": 9,
     "metadata": {},
     "output_type": "execute_result"
    }
   ],
   "source": [
    "120239090231%17"
   ]
  },
  {
   "cell_type": "code",
   "execution_count": 14,
   "id": "68d50048",
   "metadata": {},
   "outputs": [
    {
     "data": {
      "text/plain": [
       "10"
      ]
     },
     "execution_count": 14,
     "metadata": {},
     "output_type": "execute_result"
    }
   ],
   "source": [
    "32%11"
   ]
  },
  {
   "cell_type": "code",
   "execution_count": 17,
   "id": "8012a913",
   "metadata": {},
   "outputs": [
    {
     "data": {
      "text/plain": [
       "1404928"
      ]
     },
     "execution_count": 17,
     "metadata": {},
     "output_type": "execute_result"
    }
   ],
   "source": [
    "#Powers\n",
    "\n",
    "112**3"
   ]
  },
  {
   "cell_type": "code",
   "execution_count": 20,
   "id": "68998aa6",
   "metadata": {},
   "outputs": [
    {
     "data": {
      "text/plain": [
       "3.0"
      ]
     },
     "execution_count": 20,
     "metadata": {},
     "output_type": "execute_result"
    }
   ],
   "source": [
    "#roots\n",
    "9**0.5"
   ]
  },
  {
   "cell_type": "code",
   "execution_count": 24,
   "id": "1faccfe1",
   "metadata": {},
   "outputs": [
    {
     "data": {
      "text/plain": [
       "77"
      ]
     },
     "execution_count": 24,
     "metadata": {},
     "output_type": "execute_result"
    }
   ],
   "source": [
    "#Order of Operations\n",
    "3+9*9-7"
   ]
  },
  {
   "cell_type": "code",
   "execution_count": 25,
   "id": "1a5b49e7",
   "metadata": {},
   "outputs": [
    {
     "data": {
      "text/plain": [
       "24"
      ]
     },
     "execution_count": 25,
     "metadata": {},
     "output_type": "execute_result"
    }
   ],
   "source": [
    "(3+9)*(9-7)"
   ]
  },
  {
   "cell_type": "code",
   "execution_count": null,
   "id": "cc87a1a7",
   "metadata": {},
   "outputs": [],
   "source": []
  }
 ],
 "metadata": {
  "kernelspec": {
   "display_name": "Python 3 (ipykernel)",
   "language": "python",
   "name": "python3"
  },
  "language_info": {
   "codemirror_mode": {
    "name": "ipython",
    "version": 3
   },
   "file_extension": ".py",
   "mimetype": "text/x-python",
   "name": "python",
   "nbconvert_exporter": "python",
   "pygments_lexer": "ipython3",
   "version": "3.11.3"
  }
 },
 "nbformat": 4,
 "nbformat_minor": 5
}
