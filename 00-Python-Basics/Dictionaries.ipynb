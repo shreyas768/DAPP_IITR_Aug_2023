{
 "cells": [
  {
   "cell_type": "code",
   "execution_count": 1,
   "id": "db14bbea",
   "metadata": {},
   "outputs": [],
   "source": [
    "dict1 = {'key1':'hello','rbpl':'dapp'}"
   ]
  },
  {
   "cell_type": "code",
   "execution_count": 3,
   "id": "30363e79",
   "metadata": {},
   "outputs": [
    {
     "data": {
      "text/plain": [
       "'dapp'"
      ]
     },
     "execution_count": 3,
     "metadata": {},
     "output_type": "execute_result"
    }
   ],
   "source": [
    "dict1['rbpl']"
   ]
  },
  {
   "cell_type": "code",
   "execution_count": 4,
   "id": "194593c2",
   "metadata": {},
   "outputs": [],
   "source": [
    "dict2 = {'key1':123,'key2':['hello',23,100.45], 'key3': True}"
   ]
  },
  {
   "cell_type": "code",
   "execution_count": 11,
   "id": "2a18c9e5",
   "metadata": {},
   "outputs": [
    {
     "data": {
      "text/plain": [
       "['hello', 23, 100.45]"
      ]
     },
     "execution_count": 11,
     "metadata": {},
     "output_type": "execute_result"
    }
   ],
   "source": [
    "var1 = dict2['key2']\n",
    "var1"
   ]
  },
  {
   "cell_type": "code",
   "execution_count": 6,
   "id": "0ce9396d",
   "metadata": {},
   "outputs": [
    {
     "data": {
      "text/plain": [
       "True"
      ]
     },
     "execution_count": 6,
     "metadata": {},
     "output_type": "execute_result"
    }
   ],
   "source": [
    "dict2['key3']"
   ]
  },
  {
   "cell_type": "code",
   "execution_count": 12,
   "id": "e5a38edb",
   "metadata": {},
   "outputs": [
    {
     "data": {
      "text/plain": [
       "'hello'"
      ]
     },
     "execution_count": 12,
     "metadata": {},
     "output_type": "execute_result"
    }
   ],
   "source": [
    "#dict2['key2'][0]\n",
    "var1[0]"
   ]
  },
  {
   "cell_type": "code",
   "execution_count": 14,
   "id": "20d294b8",
   "metadata": {},
   "outputs": [
    {
     "data": {
      "text/plain": [
       "'e'"
      ]
     },
     "execution_count": 14,
     "metadata": {},
     "output_type": "execute_result"
    }
   ],
   "source": [
    "#dict2['key2'][0][1]\n",
    "var1[0][1]"
   ]
  },
  {
   "cell_type": "code",
   "execution_count": 15,
   "id": "2ed1a171",
   "metadata": {},
   "outputs": [
    {
     "data": {
      "text/plain": [
       "11.5"
      ]
     },
     "execution_count": 15,
     "metadata": {},
     "output_type": "execute_result"
    }
   ],
   "source": [
    "dict2['key2'][1]/2\n"
   ]
  },
  {
   "cell_type": "code",
   "execution_count": 17,
   "id": "5aa4c0e8",
   "metadata": {},
   "outputs": [
    {
     "data": {
      "text/plain": [
       "'HELLO'"
      ]
     },
     "execution_count": 17,
     "metadata": {},
     "output_type": "execute_result"
    }
   ],
   "source": [
    "dict2['key2'][0].upper()"
   ]
  },
  {
   "cell_type": "code",
   "execution_count": 19,
   "id": "3a47ec85",
   "metadata": {},
   "outputs": [
    {
     "data": {
      "text/plain": [
       "0.45000000000000284"
      ]
     },
     "execution_count": 19,
     "metadata": {},
     "output_type": "execute_result"
    }
   ],
   "source": [
    "dict2['key2'][2] - 100"
   ]
  },
  {
   "cell_type": "code",
   "execution_count": 21,
   "id": "03352b04",
   "metadata": {},
   "outputs": [],
   "source": [
    "dict2['key2'][2] -= 100"
   ]
  },
  {
   "cell_type": "code",
   "execution_count": 22,
   "id": "99334074",
   "metadata": {},
   "outputs": [
    {
     "data": {
      "text/plain": [
       "{'key1': 123, 'key2': ['hello', 23, 0.45000000000000284], 'key3': True}"
      ]
     },
     "execution_count": 22,
     "metadata": {},
     "output_type": "execute_result"
    }
   ],
   "source": [
    "dict2"
   ]
  },
  {
   "cell_type": "code",
   "execution_count": 23,
   "id": "1728a452",
   "metadata": {},
   "outputs": [],
   "source": [
    "dic_empty = {}"
   ]
  },
  {
   "cell_type": "code",
   "execution_count": 24,
   "id": "702471ed",
   "metadata": {},
   "outputs": [
    {
     "data": {
      "text/plain": [
       "{}"
      ]
     },
     "execution_count": 24,
     "metadata": {},
     "output_type": "execute_result"
    }
   ],
   "source": [
    "dic_empty"
   ]
  },
  {
   "cell_type": "code",
   "execution_count": 26,
   "id": "4bab624d",
   "metadata": {},
   "outputs": [],
   "source": [
    "dic_empty['name'] = 'Shreyas'"
   ]
  },
  {
   "cell_type": "code",
   "execution_count": 27,
   "id": "40864d9e",
   "metadata": {},
   "outputs": [],
   "source": [
    "dic_empty['email_address'] = 'shreyas@gmail.com'"
   ]
  },
  {
   "cell_type": "code",
   "execution_count": 28,
   "id": "67e70a13",
   "metadata": {},
   "outputs": [
    {
     "data": {
      "text/plain": [
       "{'name': 'Shreyas', 'email_address': 'shreyas@gmail.com'}"
      ]
     },
     "execution_count": 28,
     "metadata": {},
     "output_type": "execute_result"
    }
   ],
   "source": [
    "dic_empty"
   ]
  },
  {
   "cell_type": "markdown",
   "id": "96965a89",
   "metadata": {},
   "source": [
    "# Nesting Dictionaries"
   ]
  },
  {
   "cell_type": "code",
   "execution_count": 62,
   "id": "1ceaac77",
   "metadata": {},
   "outputs": [],
   "source": [
    "nested_dic = {'key1':{'nested_key':{'second_level_nested':['Hello',12.98,1000]}},'key2':'anything'}"
   ]
  },
  {
   "cell_type": "code",
   "execution_count": 63,
   "id": "d6526d4a",
   "metadata": {
    "scrolled": true
   },
   "outputs": [
    {
     "data": {
      "text/plain": [
       "{'nested_key': {'second_level_nested': ['Hello', 12.98, 1000]}}"
      ]
     },
     "execution_count": 63,
     "metadata": {},
     "output_type": "execute_result"
    }
   ],
   "source": [
    "nested_dic['key1']"
   ]
  },
  {
   "cell_type": "code",
   "execution_count": 64,
   "id": "c280c393",
   "metadata": {},
   "outputs": [
    {
     "data": {
      "text/plain": [
       "{'second_level_nested': ['Hello', 12.98, 1000]}"
      ]
     },
     "execution_count": 64,
     "metadata": {},
     "output_type": "execute_result"
    }
   ],
   "source": [
    "nested_dic['key1']['nested_key']"
   ]
  },
  {
   "cell_type": "code",
   "execution_count": 65,
   "id": "bf180129",
   "metadata": {},
   "outputs": [
    {
     "data": {
      "text/plain": [
       "['Hello', 12.98, 1000]"
      ]
     },
     "execution_count": 65,
     "metadata": {},
     "output_type": "execute_result"
    }
   ],
   "source": [
    "nested_dic['key1']['nested_key']['second_level_nested']"
   ]
  },
  {
   "cell_type": "code",
   "execution_count": 51,
   "id": "9ae3ddc4",
   "metadata": {},
   "outputs": [
    {
     "data": {
      "text/plain": [
       "'Hello'"
      ]
     },
     "execution_count": 51,
     "metadata": {},
     "output_type": "execute_result"
    }
   ],
   "source": [
    "nested_dic['key1']['nested_key']['second_level_nested'][0]"
   ]
  },
  {
   "cell_type": "code",
   "execution_count": 52,
   "id": "e38132d4",
   "metadata": {},
   "outputs": [
    {
     "data": {
      "text/plain": [
       "'ello'"
      ]
     },
     "execution_count": 52,
     "metadata": {},
     "output_type": "execute_result"
    }
   ],
   "source": [
    "nested_dic['key1']['nested_key']['second_level_nested'][0][1:]"
   ]
  },
  {
   "cell_type": "code",
   "execution_count": 53,
   "id": "68b2a2c8",
   "metadata": {},
   "outputs": [
    {
     "data": {
      "text/plain": [
       "'el'"
      ]
     },
     "execution_count": 53,
     "metadata": {},
     "output_type": "execute_result"
    }
   ],
   "source": [
    "nested_dic['key1']['nested_key']['second_level_nested'][0][1:3]"
   ]
  },
  {
   "cell_type": "markdown",
   "id": "493da34c",
   "metadata": {},
   "source": [
    "# Methods in Dict"
   ]
  },
  {
   "cell_type": "code",
   "execution_count": 56,
   "id": "89260f5e",
   "metadata": {},
   "outputs": [
    {
     "data": {
      "text/plain": [
       "dict_keys(['key1', 'key2'])"
      ]
     },
     "execution_count": 56,
     "metadata": {},
     "output_type": "execute_result"
    }
   ],
   "source": [
    "nested_dic.keys()"
   ]
  },
  {
   "cell_type": "code",
   "execution_count": 57,
   "id": "0327a203",
   "metadata": {},
   "outputs": [
    {
     "data": {
      "text/plain": [
       "dict_values([{'nested_key': {'second_level_nested': ['Hello', 12.98, 1000]}}, 'anything'])"
      ]
     },
     "execution_count": 57,
     "metadata": {},
     "output_type": "execute_result"
    }
   ],
   "source": [
    "nested_dic.values()"
   ]
  },
  {
   "cell_type": "code",
   "execution_count": 58,
   "id": "b17e345f",
   "metadata": {},
   "outputs": [
    {
     "data": {
      "text/plain": [
       "dict_keys(['nested_key'])"
      ]
     },
     "execution_count": 58,
     "metadata": {},
     "output_type": "execute_result"
    }
   ],
   "source": [
    "nested_dic['key1'].keys()"
   ]
  },
  {
   "cell_type": "code",
   "execution_count": 59,
   "id": "b9367a3c",
   "metadata": {},
   "outputs": [
    {
     "data": {
      "text/plain": [
       "dict_values([['Hello', 12.98, 1000]])"
      ]
     },
     "execution_count": 59,
     "metadata": {},
     "output_type": "execute_result"
    }
   ],
   "source": [
    "nested_dic['key1']['nested_key'].values()"
   ]
  },
  {
   "cell_type": "code",
   "execution_count": 60,
   "id": "3fd4459e",
   "metadata": {},
   "outputs": [
    {
     "data": {
      "text/plain": [
       "dict_items([('key1', {'nested_key': {'second_level_nested': ['Hello', 12.98, 1000]}}), ('key2', 'anything')])"
      ]
     },
     "execution_count": 60,
     "metadata": {},
     "output_type": "execute_result"
    }
   ],
   "source": [
    "nested_dic.items()"
   ]
  },
  {
   "cell_type": "code",
   "execution_count": 61,
   "id": "22d3417d",
   "metadata": {},
   "outputs": [
    {
     "data": {
      "text/plain": [
       "dict_items([('second_level_nested', ['Hello', 12.98, 1000])])"
      ]
     },
     "execution_count": 61,
     "metadata": {},
     "output_type": "execute_result"
    }
   ],
   "source": [
    "nested_dic['key1']['nested_key'].items()"
   ]
  },
  {
   "cell_type": "markdown",
   "id": "82c8ac33",
   "metadata": {},
   "source": []
  }
 ],
 "metadata": {
  "kernelspec": {
   "display_name": "Python 3 (ipykernel)",
   "language": "python",
   "name": "python3"
  },
  "language_info": {
   "codemirror_mode": {
    "name": "ipython",
    "version": 3
   },
   "file_extension": ".py",
   "mimetype": "text/x-python",
   "name": "python",
   "nbconvert_exporter": "python",
   "pygments_lexer": "ipython3",
   "version": "3.11.3"
  }
 },
 "nbformat": 4,
 "nbformat_minor": 5
}
