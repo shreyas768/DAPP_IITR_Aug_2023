{
 "cells": [
  {
   "cell_type": "code",
   "execution_count": 1,
   "id": "a7856ecb",
   "metadata": {},
   "outputs": [
    {
     "data": {
      "text/plain": [
       "'hello'"
      ]
     },
     "execution_count": 1,
     "metadata": {},
     "output_type": "execute_result"
    }
   ],
   "source": [
    "'hello'"
   ]
  },
  {
   "cell_type": "code",
   "execution_count": 2,
   "id": "6f50cf0d",
   "metadata": {},
   "outputs": [
    {
     "data": {
      "text/plain": [
       "'string can be like this as well'"
      ]
     },
     "execution_count": 2,
     "metadata": {},
     "output_type": "execute_result"
    }
   ],
   "source": [
    "'string can be like this as well'"
   ]
  },
  {
   "cell_type": "code",
   "execution_count": 3,
   "id": "93bdd825",
   "metadata": {},
   "outputs": [
    {
     "data": {
      "text/plain": [
       "'you can anything inside string such 12, *%, name, address'"
      ]
     },
     "execution_count": 3,
     "metadata": {},
     "output_type": "execute_result"
    }
   ],
   "source": [
    "'you can anything inside string such 12, *%, name, address'"
   ]
  },
  {
   "cell_type": "code",
   "execution_count": 4,
   "id": "890590cd",
   "metadata": {},
   "outputs": [
    {
     "data": {
      "text/plain": [
       "'True'"
      ]
     },
     "execution_count": 4,
     "metadata": {},
     "output_type": "execute_result"
    }
   ],
   "source": [
    "'True'"
   ]
  },
  {
   "cell_type": "code",
   "execution_count": 5,
   "id": "994f428b",
   "metadata": {},
   "outputs": [
    {
     "data": {
      "text/plain": [
       "'String can be formed using double quotes as well'"
      ]
     },
     "execution_count": 5,
     "metadata": {},
     "output_type": "execute_result"
    }
   ],
   "source": [
    "\"String can be formed using double quotes as well\""
   ]
  },
  {
   "cell_type": "code",
   "execution_count": 6,
   "id": "246548fb",
   "metadata": {},
   "outputs": [
    {
     "ename": "SyntaxError",
     "evalue": "unterminated string literal (detected at line 1) (4095775434.py, line 1)",
     "output_type": "error",
     "traceback": [
      "\u001b[1;36m  Cell \u001b[1;32mIn[6], line 1\u001b[1;36m\u001b[0m\n\u001b[1;33m    'Strings can't be that confusing when it comes to single or double quotes. Just wrap it around with other one '\u001b[0m\n\u001b[1;37m                                                                                                                  ^\u001b[0m\n\u001b[1;31mSyntaxError\u001b[0m\u001b[1;31m:\u001b[0m unterminated string literal (detected at line 1)\n"
     ]
    }
   ],
   "source": [
    "'Strings can't be that confusing when it comes to single or double quotes. Just wrap it around with other one '"
   ]
  },
  {
   "cell_type": "code",
   "execution_count": 7,
   "id": "95a125eb",
   "metadata": {},
   "outputs": [
    {
     "data": {
      "text/plain": [
       "\"Strings can't be that confusing when it comes to single or double quotes. Just wrap it around with other one \""
      ]
     },
     "execution_count": 7,
     "metadata": {},
     "output_type": "execute_result"
    }
   ],
   "source": [
    "\"Strings can't be that confusing when it comes to single or double quotes. Just wrap it around with other one \""
   ]
  },
  {
   "cell_type": "markdown",
   "id": "5a98f628",
   "metadata": {},
   "source": [
    "# Print"
   ]
  },
  {
   "cell_type": "code",
   "execution_count": 8,
   "id": "34390be1",
   "metadata": {},
   "outputs": [
    {
     "data": {
      "text/plain": [
       "'hello participants'"
      ]
     },
     "execution_count": 8,
     "metadata": {},
     "output_type": "execute_result"
    }
   ],
   "source": [
    "'hello participants'"
   ]
  },
  {
   "cell_type": "code",
   "execution_count": 9,
   "id": "e857970a",
   "metadata": {},
   "outputs": [
    {
     "data": {
      "text/plain": [
       "'how are you?'"
      ]
     },
     "execution_count": 9,
     "metadata": {},
     "output_type": "execute_result"
    }
   ],
   "source": [
    "'hello participants'\n",
    "'good evening'\n",
    "'how are you?'"
   ]
  },
  {
   "cell_type": "code",
   "execution_count": 10,
   "id": "c95f1527",
   "metadata": {},
   "outputs": [
    {
     "name": "stdout",
     "output_type": "stream",
     "text": [
      "hello participants\n"
     ]
    }
   ],
   "source": [
    "print('hello participants')"
   ]
  },
  {
   "cell_type": "code",
   "execution_count": 11,
   "id": "9742800c",
   "metadata": {},
   "outputs": [
    {
     "name": "stdout",
     "output_type": "stream",
     "text": [
      "hello participants\n",
      "\n",
      "\n",
      "good evening\n"
     ]
    }
   ],
   "source": [
    "print('hello participants')\n",
    "print('\\n')\n",
    "print('good evening')"
   ]
  },
  {
   "cell_type": "code",
   "execution_count": 12,
   "id": "86859eae",
   "metadata": {},
   "outputs": [
    {
     "name": "stdout",
     "output_type": "stream",
     "text": [
      "hello participants \n",
      " good \t evening\n"
     ]
    }
   ],
   "source": [
    "print('hello participants \\n good \\t evening')"
   ]
  },
  {
   "cell_type": "code",
   "execution_count": 13,
   "id": "5707a015",
   "metadata": {},
   "outputs": [
    {
     "data": {
      "text/plain": [
       "18"
      ]
     },
     "execution_count": 13,
     "metadata": {},
     "output_type": "execute_result"
    }
   ],
   "source": [
    "#Check length of string\n",
    "len('hello participants')"
   ]
  },
  {
   "cell_type": "markdown",
   "id": "d448bdb4",
   "metadata": {},
   "source": [
    "# String Indexing"
   ]
  },
  {
   "cell_type": "code",
   "execution_count": 53,
   "id": "9ccacb94",
   "metadata": {},
   "outputs": [],
   "source": [
    "s1 = 'Hello Participants'"
   ]
  },
  {
   "cell_type": "code",
   "execution_count": 15,
   "id": "3e084f49",
   "metadata": {},
   "outputs": [
    {
     "data": {
      "text/plain": [
       "18"
      ]
     },
     "execution_count": 15,
     "metadata": {},
     "output_type": "execute_result"
    }
   ],
   "source": [
    "len(s1)"
   ]
  },
  {
   "cell_type": "code",
   "execution_count": 16,
   "id": "fa117b66",
   "metadata": {},
   "outputs": [
    {
     "data": {
      "text/plain": [
       "'hello participants'"
      ]
     },
     "execution_count": 16,
     "metadata": {},
     "output_type": "execute_result"
    }
   ],
   "source": [
    "s1"
   ]
  },
  {
   "cell_type": "code",
   "execution_count": 17,
   "id": "a9a61b11",
   "metadata": {},
   "outputs": [
    {
     "name": "stdout",
     "output_type": "stream",
     "text": [
      "hello participants\n"
     ]
    }
   ],
   "source": [
    "print(s1)"
   ]
  },
  {
   "cell_type": "code",
   "execution_count": 18,
   "id": "f4d915d6",
   "metadata": {},
   "outputs": [
    {
     "data": {
      "text/plain": [
       "'h'"
      ]
     },
     "execution_count": 18,
     "metadata": {},
     "output_type": "execute_result"
    }
   ],
   "source": [
    "s1[0]"
   ]
  },
  {
   "cell_type": "code",
   "execution_count": 19,
   "id": "cf9fc364",
   "metadata": {},
   "outputs": [
    {
     "data": {
      "text/plain": [
       "'h'"
      ]
     },
     "execution_count": 19,
     "metadata": {},
     "output_type": "execute_result"
    }
   ],
   "source": [
    "s1[-18]"
   ]
  },
  {
   "cell_type": "code",
   "execution_count": 20,
   "id": "7e151a2e",
   "metadata": {},
   "outputs": [
    {
     "data": {
      "text/plain": [
       "'e'"
      ]
     },
     "execution_count": 20,
     "metadata": {},
     "output_type": "execute_result"
    }
   ],
   "source": [
    "s1[1]"
   ]
  },
  {
   "cell_type": "code",
   "execution_count": 21,
   "id": "dc1ca81c",
   "metadata": {},
   "outputs": [
    {
     "data": {
      "text/plain": [
       "'l'"
      ]
     },
     "execution_count": 21,
     "metadata": {},
     "output_type": "execute_result"
    }
   ],
   "source": [
    "s1[2]"
   ]
  },
  {
   "cell_type": "code",
   "execution_count": 22,
   "id": "8cee8913",
   "metadata": {},
   "outputs": [
    {
     "data": {
      "text/plain": [
       "' '"
      ]
     },
     "execution_count": 22,
     "metadata": {},
     "output_type": "execute_result"
    }
   ],
   "source": [
    "s1[5]"
   ]
  },
  {
   "cell_type": "code",
   "execution_count": 23,
   "id": "f1906fe4",
   "metadata": {},
   "outputs": [
    {
     "data": {
      "text/plain": [
       "'s'"
      ]
     },
     "execution_count": 23,
     "metadata": {},
     "output_type": "execute_result"
    }
   ],
   "source": [
    "s1[-1]"
   ]
  },
  {
   "cell_type": "code",
   "execution_count": 24,
   "id": "a63996fc",
   "metadata": {},
   "outputs": [
    {
     "data": {
      "text/plain": [
       "'s'"
      ]
     },
     "execution_count": 24,
     "metadata": {},
     "output_type": "execute_result"
    }
   ],
   "source": [
    "s1[17]"
   ]
  },
  {
   "cell_type": "code",
   "execution_count": 25,
   "id": "7b33a2da",
   "metadata": {},
   "outputs": [
    {
     "data": {
      "text/plain": [
       "'hello participants'"
      ]
     },
     "execution_count": 25,
     "metadata": {},
     "output_type": "execute_result"
    }
   ],
   "source": [
    "s1"
   ]
  },
  {
   "cell_type": "code",
   "execution_count": 26,
   "id": "87071589",
   "metadata": {},
   "outputs": [
    {
     "data": {
      "text/plain": [
       "'ello participants'"
      ]
     },
     "execution_count": 26,
     "metadata": {},
     "output_type": "execute_result"
    }
   ],
   "source": [
    "s1[1:]"
   ]
  },
  {
   "cell_type": "code",
   "execution_count": 27,
   "id": "dd69dd00",
   "metadata": {},
   "outputs": [
    {
     "data": {
      "text/plain": [
       "'hell'"
      ]
     },
     "execution_count": 27,
     "metadata": {},
     "output_type": "execute_result"
    }
   ],
   "source": [
    "s1[:4]"
   ]
  },
  {
   "cell_type": "code",
   "execution_count": 28,
   "id": "fd45fe81",
   "metadata": {},
   "outputs": [
    {
     "data": {
      "text/plain": [
       "'hello participants'"
      ]
     },
     "execution_count": 28,
     "metadata": {},
     "output_type": "execute_result"
    }
   ],
   "source": [
    "s1[:]"
   ]
  },
  {
   "cell_type": "code",
   "execution_count": 29,
   "id": "1c9cb670",
   "metadata": {},
   "outputs": [
    {
     "data": {
      "text/plain": [
       "'hello participant'"
      ]
     },
     "execution_count": 29,
     "metadata": {},
     "output_type": "execute_result"
    }
   ],
   "source": [
    "s1[:-1]"
   ]
  },
  {
   "cell_type": "code",
   "execution_count": 30,
   "id": "ad7ec07d",
   "metadata": {},
   "outputs": [
    {
     "data": {
      "text/plain": [
       "'hello participant'"
      ]
     },
     "execution_count": 30,
     "metadata": {},
     "output_type": "execute_result"
    }
   ],
   "source": [
    "s1[:17]"
   ]
  },
  {
   "cell_type": "code",
   "execution_count": 31,
   "id": "16978454",
   "metadata": {},
   "outputs": [
    {
     "data": {
      "text/plain": [
       "'hello participants'"
      ]
     },
     "execution_count": 31,
     "metadata": {},
     "output_type": "execute_result"
    }
   ],
   "source": [
    "s1[::1] #step size of 1"
   ]
  },
  {
   "cell_type": "code",
   "execution_count": 32,
   "id": "d8fa322e",
   "metadata": {},
   "outputs": [
    {
     "data": {
      "text/plain": [
       "'hlopriiat'"
      ]
     },
     "execution_count": 32,
     "metadata": {},
     "output_type": "execute_result"
    }
   ],
   "source": [
    "#step size of 2\n",
    "s1[::2]"
   ]
  },
  {
   "cell_type": "code",
   "execution_count": 33,
   "id": "c5353426",
   "metadata": {},
   "outputs": [
    {
     "data": {
      "text/plain": [
       "'h in'"
      ]
     },
     "execution_count": 33,
     "metadata": {},
     "output_type": "execute_result"
    }
   ],
   "source": [
    "s1[0:17:5]"
   ]
  },
  {
   "cell_type": "code",
   "execution_count": 34,
   "id": "f38ac49d",
   "metadata": {},
   "outputs": [
    {
     "data": {
      "text/plain": [
       "'stnapicitrap olleh'"
      ]
     },
     "execution_count": 34,
     "metadata": {},
     "output_type": "execute_result"
    }
   ],
   "source": [
    "s1[::-1]"
   ]
  },
  {
   "cell_type": "code",
   "execution_count": 35,
   "id": "83811fc3",
   "metadata": {},
   "outputs": [
    {
     "data": {
      "text/plain": [
       "'snpcta le'"
      ]
     },
     "execution_count": 35,
     "metadata": {},
     "output_type": "execute_result"
    }
   ],
   "source": [
    "s1[::-2]"
   ]
  },
  {
   "cell_type": "code",
   "execution_count": 36,
   "id": "153addbc",
   "metadata": {},
   "outputs": [
    {
     "data": {
      "text/plain": [
       "'eo'"
      ]
     },
     "execution_count": 36,
     "metadata": {},
     "output_type": "execute_result"
    }
   ],
   "source": [
    " s1[1:5:3]"
   ]
  },
  {
   "cell_type": "markdown",
   "id": "ffebf708",
   "metadata": {},
   "source": [
    "# String Properties"
   ]
  },
  {
   "cell_type": "code",
   "execution_count": 37,
   "id": "c80d219a",
   "metadata": {},
   "outputs": [
    {
     "data": {
      "text/plain": [
       "'hello participants'"
      ]
     },
     "execution_count": 37,
     "metadata": {},
     "output_type": "execute_result"
    }
   ],
   "source": [
    "s1"
   ]
  },
  {
   "cell_type": "code",
   "execution_count": 38,
   "id": "3897e62b",
   "metadata": {},
   "outputs": [
    {
     "ename": "TypeError",
     "evalue": "'str' object does not support item assignment",
     "output_type": "error",
     "traceback": [
      "\u001b[1;31m---------------------------------------------------------------------------\u001b[0m",
      "\u001b[1;31mTypeError\u001b[0m                                 Traceback (most recent call last)",
      "Cell \u001b[1;32mIn[38], line 1\u001b[0m\n\u001b[1;32m----> 1\u001b[0m s1[\u001b[38;5;241m0\u001b[39m] \u001b[38;5;241m=\u001b[39m \u001b[38;5;124m'\u001b[39m\u001b[38;5;124mx\u001b[39m\u001b[38;5;124m'\u001b[39m\n",
      "\u001b[1;31mTypeError\u001b[0m: 'str' object does not support item assignment"
     ]
    }
   ],
   "source": [
    "s1[0] = 'x'"
   ]
  },
  {
   "cell_type": "code",
   "execution_count": 39,
   "id": "e2596a48",
   "metadata": {},
   "outputs": [],
   "source": [
    "s2 = '. good evening'"
   ]
  },
  {
   "cell_type": "code",
   "execution_count": 40,
   "id": "e6052b5a",
   "metadata": {},
   "outputs": [
    {
     "data": {
      "text/plain": [
       "'hello participants. good evening'"
      ]
     },
     "execution_count": 40,
     "metadata": {},
     "output_type": "execute_result"
    }
   ],
   "source": [
    "s1 + s2"
   ]
  },
  {
   "cell_type": "code",
   "execution_count": 41,
   "id": "1ed72aad",
   "metadata": {},
   "outputs": [
    {
     "data": {
      "text/plain": [
       "'hello participants. good evening. How are you?'"
      ]
     },
     "execution_count": 41,
     "metadata": {},
     "output_type": "execute_result"
    }
   ],
   "source": [
    "s1 + s2 + '. How are you?'"
   ]
  },
  {
   "cell_type": "code",
   "execution_count": 42,
   "id": "11efae02",
   "metadata": {},
   "outputs": [
    {
     "data": {
      "text/plain": [
       "5"
      ]
     },
     "execution_count": 42,
     "metadata": {},
     "output_type": "execute_result"
    }
   ],
   "source": [
    "2+3"
   ]
  },
  {
   "cell_type": "code",
   "execution_count": 43,
   "id": "793fe97b",
   "metadata": {},
   "outputs": [
    {
     "data": {
      "text/plain": [
       "'2  3'"
      ]
     },
     "execution_count": 43,
     "metadata": {},
     "output_type": "execute_result"
    }
   ],
   "source": [
    "'2'+'  3'"
   ]
  },
  {
   "cell_type": "code",
   "execution_count": 44,
   "id": "398bcdd6",
   "metadata": {},
   "outputs": [
    {
     "data": {
      "text/plain": [
       "'ab'"
      ]
     },
     "execution_count": 44,
     "metadata": {},
     "output_type": "execute_result"
    }
   ],
   "source": [
    "'a'+'b'"
   ]
  },
  {
   "cell_type": "code",
   "execution_count": 47,
   "id": "e50cf6fc",
   "metadata": {},
   "outputs": [],
   "source": [
    "x = 'i dsjhjsdkcnasjkjcnsajcsjd'"
   ]
  },
  {
   "cell_type": "code",
   "execution_count": 48,
   "id": "b68b26b2",
   "metadata": {},
   "outputs": [
    {
     "data": {
      "text/plain": [
       "'i dsjhjsdkcnasjkjcnsajcsjdi dsjhjsdkcnasjkjcnsajcsjdi dsjhjsdkcnasjkjcnsajcsjdi dsjhjsdkcnasjkjcnsajcsjdi dsjhjsdkcnasjkjcnsajcsjd'"
      ]
     },
     "execution_count": 48,
     "metadata": {},
     "output_type": "execute_result"
    }
   ],
   "source": [
    "x*5"
   ]
  },
  {
   "cell_type": "markdown",
   "id": "9cda95d5",
   "metadata": {},
   "source": [
    "# Built-In Methods in String\n",
    "\n",
    "object.method(parameter)"
   ]
  },
  {
   "cell_type": "code",
   "execution_count": 58,
   "id": "4804cfbf",
   "metadata": {},
   "outputs": [],
   "source": [
    "s3 = 'This is a Course by IITr and RBPL'"
   ]
  },
  {
   "cell_type": "code",
   "execution_count": 59,
   "id": "4ee08c3b",
   "metadata": {},
   "outputs": [
    {
     "data": {
      "text/plain": [
       "'This is a Course by IITr and RBPL'"
      ]
     },
     "execution_count": 59,
     "metadata": {},
     "output_type": "execute_result"
    }
   ],
   "source": [
    "s3"
   ]
  },
  {
   "cell_type": "code",
   "execution_count": 60,
   "id": "3f0044a7",
   "metadata": {},
   "outputs": [
    {
     "data": {
      "text/plain": [
       "'THIS IS A COURSE BY IITR AND RBPL'"
      ]
     },
     "execution_count": 60,
     "metadata": {},
     "output_type": "execute_result"
    }
   ],
   "source": [
    "#Upper Case\n",
    "s3.upper()"
   ]
  },
  {
   "cell_type": "code",
   "execution_count": 61,
   "id": "6fcd2e07",
   "metadata": {},
   "outputs": [
    {
     "data": {
      "text/plain": [
       "<function str.upper()>"
      ]
     },
     "execution_count": 61,
     "metadata": {},
     "output_type": "execute_result"
    }
   ],
   "source": [
    "s3.upper"
   ]
  },
  {
   "cell_type": "code",
   "execution_count": 62,
   "id": "8f9b993c",
   "metadata": {},
   "outputs": [
    {
     "data": {
      "text/plain": [
       "'this is a course by iitr and rbpl'"
      ]
     },
     "execution_count": 62,
     "metadata": {},
     "output_type": "execute_result"
    }
   ],
   "source": [
    "s3.lower()"
   ]
  },
  {
   "cell_type": "code",
   "execution_count": 63,
   "id": "1d55d9a1",
   "metadata": {},
   "outputs": [
    {
     "data": {
      "text/plain": [
       "['This', 'is', 'a', 'Course', 'by', 'IITr', 'and', 'RBPL']"
      ]
     },
     "execution_count": 63,
     "metadata": {},
     "output_type": "execute_result"
    }
   ],
   "source": [
    "#Split a string\n",
    "s3.split()"
   ]
  },
  {
   "cell_type": "code",
   "execution_count": 64,
   "id": "6e1422bd",
   "metadata": {},
   "outputs": [
    {
     "data": {
      "text/plain": [
       "['This is a ', 'ourse by IITr and RBPL']"
      ]
     },
     "execution_count": 64,
     "metadata": {},
     "output_type": "execute_result"
    }
   ],
   "source": [
    "s3.split('C')"
   ]
  },
  {
   "cell_type": "code",
   "execution_count": 68,
   "id": "fd2f2d8a",
   "metadata": {
    "scrolled": true
   },
   "outputs": [
    {
     "data": {
      "text/plain": [
       "['This is ', ' Course by IITr ', 'nd RBPL']"
      ]
     },
     "execution_count": 68,
     "metadata": {},
     "output_type": "execute_result"
    }
   ],
   "source": [
    "s3.split('a')"
   ]
  },
  {
   "cell_type": "markdown",
   "id": "efd5458b",
   "metadata": {},
   "source": [
    "# Print Formatting"
   ]
  },
  {
   "cell_type": "code",
   "execution_count": 69,
   "id": "e546543e",
   "metadata": {},
   "outputs": [
    {
     "data": {
      "text/plain": [
       "'Put a string with curly brackets: String to be inserted here'"
      ]
     },
     "execution_count": 69,
     "metadata": {},
     "output_type": "execute_result"
    }
   ],
   "source": [
    "#.format()\n",
    "'Put a string with curly brackets: {}'.format('String to be inserted here')"
   ]
  },
  {
   "cell_type": "code",
   "execution_count": 70,
   "id": "3e656671",
   "metadata": {},
   "outputs": [
    {
     "data": {
      "text/plain": [
       "\"My name is Shreyas and I'm instructor of DAPP\""
      ]
     },
     "execution_count": 70,
     "metadata": {},
     "output_type": "execute_result"
    }
   ],
   "source": [
    "\"My name is {} and I'm instructor of {}\".format('Shreyas','DAPP') "
   ]
  },
  {
   "cell_type": "code",
   "execution_count": 71,
   "id": "f38e7350",
   "metadata": {},
   "outputs": [],
   "source": [
    "res = 213/17"
   ]
  },
  {
   "cell_type": "code",
   "execution_count": 72,
   "id": "c418e46f",
   "metadata": {},
   "outputs": [
    {
     "data": {
      "text/plain": [
       "12.529411764705882"
      ]
     },
     "execution_count": 72,
     "metadata": {},
     "output_type": "execute_result"
    }
   ],
   "source": [
    "res"
   ]
  },
  {
   "cell_type": "code",
   "execution_count": 74,
   "id": "42ac4247",
   "metadata": {},
   "outputs": [
    {
     "name": "stdout",
     "output_type": "stream",
     "text": [
      "The result is no result. But after hard work, I got 12.529411764705882\n"
     ]
    }
   ],
   "source": [
    "print('The result is {s}. But after hard work, I got {r}'.format(r = res, s = 'no result'))"
   ]
  },
  {
   "cell_type": "code",
   "execution_count": 75,
   "id": "fae790e2",
   "metadata": {},
   "outputs": [
    {
     "data": {
      "text/plain": [
       "'The result is 12.529411764705882'"
      ]
     },
     "execution_count": 75,
     "metadata": {},
     "output_type": "execute_result"
    }
   ],
   "source": [
    "#f string\n",
    "f'The result is {res}'"
   ]
  },
  {
   "cell_type": "code",
   "execution_count": 77,
   "id": "c97063fc",
   "metadata": {},
   "outputs": [
    {
     "name": "stdout",
     "output_type": "stream",
     "text": [
      "His name is Shreyas and he is the Lead Instructor of DAPP\n"
     ]
    }
   ],
   "source": [
    "name = 'Shreyas'\n",
    "designation = 'Lead Instructor of DAPP'\n",
    "print(f'His name is {name} and he is the {designation}')"
   ]
  },
  {
   "cell_type": "code",
   "execution_count": null,
   "id": "86543503",
   "metadata": {},
   "outputs": [],
   "source": []
  },
  {
   "cell_type": "code",
   "execution_count": null,
   "id": "c83865a2",
   "metadata": {},
   "outputs": [],
   "source": []
  }
 ],
 "metadata": {
  "kernelspec": {
   "display_name": "Python 3 (ipykernel)",
   "language": "python",
   "name": "python3"
  },
  "language_info": {
   "codemirror_mode": {
    "name": "ipython",
    "version": 3
   },
   "file_extension": ".py",
   "mimetype": "text/x-python",
   "name": "python",
   "nbconvert_exporter": "python",
   "pygments_lexer": "ipython3",
   "version": "3.11.3"
  }
 },
 "nbformat": 4,
 "nbformat_minor": 5
}
