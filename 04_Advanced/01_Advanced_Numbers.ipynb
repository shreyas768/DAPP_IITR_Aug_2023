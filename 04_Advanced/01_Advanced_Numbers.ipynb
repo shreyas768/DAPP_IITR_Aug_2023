{
 "cells": [
  {
   "cell_type": "markdown",
   "id": "50d50ff5",
   "metadata": {},
   "source": [
    "# Exponentials"
   ]
  },
  {
   "cell_type": "code",
   "execution_count": 1,
   "id": "93ccc4bb",
   "metadata": {},
   "outputs": [
    {
     "data": {
      "text/plain": [
       "32"
      ]
     },
     "execution_count": 1,
     "metadata": {},
     "output_type": "execute_result"
    }
   ],
   "source": [
    "pow(2,5)"
   ]
  },
  {
   "cell_type": "code",
   "execution_count": 2,
   "id": "4ca544ac",
   "metadata": {},
   "outputs": [
    {
     "data": {
      "text/plain": [
       "2"
      ]
     },
     "execution_count": 2,
     "metadata": {},
     "output_type": "execute_result"
    }
   ],
   "source": [
    "pow(2,5,3)"
   ]
  },
  {
   "cell_type": "markdown",
   "id": "e01b4d01",
   "metadata": {},
   "source": [
    "# Absolute Value"
   ]
  },
  {
   "cell_type": "code",
   "execution_count": 3,
   "id": "923ffcbb",
   "metadata": {},
   "outputs": [
    {
     "data": {
      "text/plain": [
       "112"
      ]
     },
     "execution_count": 3,
     "metadata": {},
     "output_type": "execute_result"
    }
   ],
   "source": [
    "abs(-112)"
   ]
  },
  {
   "cell_type": "markdown",
   "id": "5e2d6c75",
   "metadata": {},
   "source": [
    "# Round"
   ]
  },
  {
   "cell_type": "code",
   "execution_count": 4,
   "id": "630cb4df",
   "metadata": {},
   "outputs": [
    {
     "data": {
      "text/plain": [
       "3.1124"
      ]
     },
     "execution_count": 4,
     "metadata": {},
     "output_type": "execute_result"
    }
   ],
   "source": [
    "round(3.1123791287,4)"
   ]
  },
  {
   "cell_type": "code",
   "execution_count": 8,
   "id": "2c0b8ca5",
   "metadata": {},
   "outputs": [
    {
     "data": {
      "text/plain": [
       "390"
      ]
     },
     "execution_count": 8,
     "metadata": {},
     "output_type": "execute_result"
    }
   ],
   "source": [
    "round(394,-1)"
   ]
  },
  {
   "cell_type": "code",
   "execution_count": 11,
   "id": "0d956612",
   "metadata": {},
   "outputs": [
    {
     "data": {
      "text/plain": [
       "4000"
      ]
     },
     "execution_count": 11,
     "metadata": {},
     "output_type": "execute_result"
    }
   ],
   "source": [
    "round(3942,-3)"
   ]
  },
  {
   "cell_type": "code",
   "execution_count": 10,
   "id": "9e199b43",
   "metadata": {},
   "outputs": [
    {
     "data": {
      "text/plain": [
       "300"
      ]
     },
     "execution_count": 10,
     "metadata": {},
     "output_type": "execute_result"
    }
   ],
   "source": [
    "round(334,-2)"
   ]
  },
  {
   "cell_type": "code",
   "execution_count": null,
   "id": "31d53839",
   "metadata": {},
   "outputs": [],
   "source": []
  }
 ],
 "metadata": {
  "kernelspec": {
   "display_name": "Python 3 (ipykernel)",
   "language": "python",
   "name": "python3"
  },
  "language_info": {
   "codemirror_mode": {
    "name": "ipython",
    "version": 3
   },
   "file_extension": ".py",
   "mimetype": "text/x-python",
   "name": "python",
   "nbconvert_exporter": "python",
   "pygments_lexer": "ipython3",
   "version": "3.11.3"
  }
 },
 "nbformat": 4,
 "nbformat_minor": 5
}
