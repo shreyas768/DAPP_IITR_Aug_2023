{
 "cells": [
  {
   "cell_type": "code",
   "execution_count": 54,
   "id": "22e8e4dd",
   "metadata": {},
   "outputs": [],
   "source": [
    "set1 = set()"
   ]
  },
  {
   "cell_type": "code",
   "execution_count": 55,
   "id": "d4132a39",
   "metadata": {},
   "outputs": [],
   "source": [
    "set1.add(12)"
   ]
  },
  {
   "cell_type": "code",
   "execution_count": 56,
   "id": "de477894",
   "metadata": {},
   "outputs": [],
   "source": [
    "set1.add(45)"
   ]
  },
  {
   "cell_type": "code",
   "execution_count": null,
   "id": "a9ea1121",
   "metadata": {},
   "outputs": [
    {
     "data": {
      "text/plain": [
       "{12, 45}"
      ]
     },
     "execution_count": 57,
     "metadata": {},
     "output_type": "execute_result"
    }
   ],
   "source": [
    "set1"
   ]
  },
  {
   "cell_type": "code",
   "execution_count": null,
   "id": "50e1317b",
   "metadata": {},
   "outputs": [],
   "source": [
    "set1.add(12)"
   ]
  },
  {
   "cell_type": "code",
   "execution_count": 59,
   "id": "aa723cd1",
   "metadata": {},
   "outputs": [
    {
     "data": {
      "text/plain": [
       "{12, 45}"
      ]
     },
     "execution_count": 59,
     "metadata": {},
     "output_type": "execute_result"
    }
   ],
   "source": [
    "set1"
   ]
  },
  {
   "cell_type": "code",
   "execution_count": 60,
   "id": "5a0e3916",
   "metadata": {},
   "outputs": [],
   "source": [
    "set1.clear()"
   ]
  },
  {
   "cell_type": "code",
   "execution_count": 61,
   "id": "34ed7af6",
   "metadata": {},
   "outputs": [
    {
     "data": {
      "text/plain": [
       "set()"
      ]
     },
     "execution_count": 61,
     "metadata": {},
     "output_type": "execute_result"
    }
   ],
   "source": [
    "set1"
   ]
  },
  {
   "cell_type": "code",
   "execution_count": 62,
   "id": "cc047174",
   "metadata": {},
   "outputs": [],
   "source": [
    "set2 = {1,2,3}"
   ]
  },
  {
   "cell_type": "code",
   "execution_count": 63,
   "id": "cb7e0ff3",
   "metadata": {},
   "outputs": [],
   "source": [
    "set2_copy = set2.copy()"
   ]
  },
  {
   "cell_type": "code",
   "execution_count": 64,
   "id": "c4e59e8d",
   "metadata": {},
   "outputs": [
    {
     "data": {
      "text/plain": [
       "{1, 2, 3}"
      ]
     },
     "execution_count": 64,
     "metadata": {},
     "output_type": "execute_result"
    }
   ],
   "source": [
    "set2"
   ]
  },
  {
   "cell_type": "code",
   "execution_count": 65,
   "id": "864be3df",
   "metadata": {},
   "outputs": [
    {
     "data": {
      "text/plain": [
       "{1, 2, 3}"
      ]
     },
     "execution_count": 65,
     "metadata": {},
     "output_type": "execute_result"
    }
   ],
   "source": [
    "set2_copy"
   ]
  },
  {
   "cell_type": "code",
   "execution_count": 66,
   "id": "03c0de17",
   "metadata": {},
   "outputs": [],
   "source": [
    "set2.add(4)"
   ]
  },
  {
   "cell_type": "code",
   "execution_count": 67,
   "id": "bb105118",
   "metadata": {},
   "outputs": [
    {
     "data": {
      "text/plain": [
       "{1, 2, 3, 4}"
      ]
     },
     "execution_count": 67,
     "metadata": {},
     "output_type": "execute_result"
    }
   ],
   "source": [
    "set2"
   ]
  },
  {
   "cell_type": "code",
   "execution_count": 68,
   "id": "8e937aba",
   "metadata": {},
   "outputs": [
    {
     "data": {
      "text/plain": [
       "{4}"
      ]
     },
     "execution_count": 68,
     "metadata": {},
     "output_type": "execute_result"
    }
   ],
   "source": [
    "set2.difference(set2_copy)"
   ]
  },
  {
   "cell_type": "code",
   "execution_count": 69,
   "id": "d7965009",
   "metadata": {},
   "outputs": [],
   "source": [
    "set3 = {1,4,5}"
   ]
  },
  {
   "cell_type": "code",
   "execution_count": 70,
   "id": "5c5d9b1b",
   "metadata": {},
   "outputs": [
    {
     "data": {
      "text/plain": [
       "{1, 4, 5}"
      ]
     },
     "execution_count": 70,
     "metadata": {},
     "output_type": "execute_result"
    }
   ],
   "source": [
    "set3"
   ]
  },
  {
   "cell_type": "code",
   "execution_count": 71,
   "id": "7f62db5a",
   "metadata": {},
   "outputs": [
    {
     "data": {
      "text/plain": [
       "{1, 2, 3}"
      ]
     },
     "execution_count": 71,
     "metadata": {},
     "output_type": "execute_result"
    }
   ],
   "source": [
    "set2_copy"
   ]
  },
  {
   "cell_type": "code",
   "execution_count": 72,
   "id": "4c49b245",
   "metadata": {},
   "outputs": [],
   "source": [
    "set2_copy.difference_update(set3) #inplace=True"
   ]
  },
  {
   "cell_type": "code",
   "execution_count": 73,
   "id": "c16326b6",
   "metadata": {},
   "outputs": [
    {
     "data": {
      "text/plain": [
       "{2, 3}"
      ]
     },
     "execution_count": 73,
     "metadata": {},
     "output_type": "execute_result"
    }
   ],
   "source": [
    "set2_copy"
   ]
  },
  {
   "cell_type": "code",
   "execution_count": 74,
   "id": "acfd116e",
   "metadata": {},
   "outputs": [
    {
     "data": {
      "text/plain": [
       "{1, 2, 3, 4}"
      ]
     },
     "execution_count": 74,
     "metadata": {},
     "output_type": "execute_result"
    }
   ],
   "source": [
    "set2"
   ]
  },
  {
   "cell_type": "code",
   "execution_count": 75,
   "id": "ec8080e9",
   "metadata": {},
   "outputs": [],
   "source": [
    "set2.discard(2)"
   ]
  },
  {
   "cell_type": "code",
   "execution_count": 76,
   "id": "750aab78",
   "metadata": {},
   "outputs": [
    {
     "data": {
      "text/plain": [
       "{1, 3, 4}"
      ]
     },
     "execution_count": 76,
     "metadata": {},
     "output_type": "execute_result"
    }
   ],
   "source": [
    "set2"
   ]
  },
  {
   "cell_type": "code",
   "execution_count": 95,
   "id": "34ce9358",
   "metadata": {},
   "outputs": [],
   "source": [
    "set_i1 = {1,2,3}\n",
    "set_i2 = {1,2,4}"
   ]
  },
  {
   "cell_type": "code",
   "execution_count": 78,
   "id": "d0e31e85",
   "metadata": {},
   "outputs": [
    {
     "data": {
      "text/plain": [
       "{1, 2}"
      ]
     },
     "execution_count": 78,
     "metadata": {},
     "output_type": "execute_result"
    }
   ],
   "source": [
    "set_i1.intersection(set_i2)"
   ]
  },
  {
   "cell_type": "code",
   "execution_count": 96,
   "id": "98042b7f",
   "metadata": {},
   "outputs": [
    {
     "data": {
      "text/plain": [
       "{1, 2, 3}"
      ]
     },
     "execution_count": 96,
     "metadata": {},
     "output_type": "execute_result"
    }
   ],
   "source": [
    "set_i1"
   ]
  },
  {
   "cell_type": "code",
   "execution_count": 80,
   "id": "be942d30",
   "metadata": {},
   "outputs": [],
   "source": [
    "set_i1.intersection_update(set_i2)"
   ]
  },
  {
   "cell_type": "code",
   "execution_count": 97,
   "id": "f614ca50",
   "metadata": {},
   "outputs": [
    {
     "data": {
      "text/plain": [
       "{1, 2, 3}"
      ]
     },
     "execution_count": 97,
     "metadata": {},
     "output_type": "execute_result"
    }
   ],
   "source": [
    "set_i1"
   ]
  },
  {
   "cell_type": "code",
   "execution_count": 98,
   "id": "4ea36e4c",
   "metadata": {},
   "outputs": [
    {
     "data": {
      "text/plain": [
       "{1, 2, 4}"
      ]
     },
     "execution_count": 98,
     "metadata": {},
     "output_type": "execute_result"
    }
   ],
   "source": [
    "set_i2"
   ]
  },
  {
   "cell_type": "code",
   "execution_count": 99,
   "id": "4092fe36",
   "metadata": {},
   "outputs": [],
   "source": [
    "set_i3 = {5}"
   ]
  },
  {
   "cell_type": "code",
   "execution_count": 84,
   "id": "d16d344e",
   "metadata": {},
   "outputs": [
    {
     "data": {
      "text/plain": [
       "{5}"
      ]
     },
     "execution_count": 84,
     "metadata": {},
     "output_type": "execute_result"
    }
   ],
   "source": [
    "set_i3"
   ]
  },
  {
   "cell_type": "code",
   "execution_count": 85,
   "id": "1750c071",
   "metadata": {},
   "outputs": [
    {
     "data": {
      "text/plain": [
       "False"
      ]
     },
     "execution_count": 85,
     "metadata": {},
     "output_type": "execute_result"
    }
   ],
   "source": [
    "set_i1.isdisjoint(set_i2)"
   ]
  },
  {
   "cell_type": "code",
   "execution_count": 86,
   "id": "ba125f95",
   "metadata": {},
   "outputs": [
    {
     "data": {
      "text/plain": [
       "True"
      ]
     },
     "execution_count": 86,
     "metadata": {},
     "output_type": "execute_result"
    }
   ],
   "source": [
    "set_i1.isdisjoint(set_i3)"
   ]
  },
  {
   "cell_type": "code",
   "execution_count": 87,
   "id": "3d79716e",
   "metadata": {},
   "outputs": [
    {
     "data": {
      "text/plain": [
       "True"
      ]
     },
     "execution_count": 87,
     "metadata": {},
     "output_type": "execute_result"
    }
   ],
   "source": [
    "set_i1.issubset(set_i2)"
   ]
  },
  {
   "cell_type": "code",
   "execution_count": 88,
   "id": "3624fd1e",
   "metadata": {},
   "outputs": [
    {
     "data": {
      "text/plain": [
       "False"
      ]
     },
     "execution_count": 88,
     "metadata": {},
     "output_type": "execute_result"
    }
   ],
   "source": [
    "set_i1.issubset(set_i3)"
   ]
  },
  {
   "cell_type": "code",
   "execution_count": 89,
   "id": "22ba1050",
   "metadata": {},
   "outputs": [
    {
     "data": {
      "text/plain": [
       "True"
      ]
     },
     "execution_count": 89,
     "metadata": {},
     "output_type": "execute_result"
    }
   ],
   "source": [
    "set_i2.issuperset(set_i1)"
   ]
  },
  {
   "cell_type": "code",
   "execution_count": 90,
   "id": "e6ebdc8a",
   "metadata": {},
   "outputs": [
    {
     "data": {
      "text/plain": [
       "False"
      ]
     },
     "execution_count": 90,
     "metadata": {},
     "output_type": "execute_result"
    }
   ],
   "source": [
    "set_i2.issuperset(set_i3)"
   ]
  },
  {
   "cell_type": "code",
   "execution_count": 100,
   "id": "bf51924c",
   "metadata": {},
   "outputs": [
    {
     "data": {
      "text/plain": [
       "{1, 2, 3}"
      ]
     },
     "execution_count": 100,
     "metadata": {},
     "output_type": "execute_result"
    }
   ],
   "source": [
    "set_i1"
   ]
  },
  {
   "cell_type": "code",
   "execution_count": 101,
   "id": "6d6b2990",
   "metadata": {},
   "outputs": [
    {
     "data": {
      "text/plain": [
       "{5}"
      ]
     },
     "execution_count": 101,
     "metadata": {},
     "output_type": "execute_result"
    }
   ],
   "source": [
    "set_i3"
   ]
  },
  {
   "cell_type": "code",
   "execution_count": 102,
   "id": "a6b1f4a8",
   "metadata": {},
   "outputs": [
    {
     "data": {
      "text/plain": [
       "{1, 2, 3, 5}"
      ]
     },
     "execution_count": 102,
     "metadata": {},
     "output_type": "execute_result"
    }
   ],
   "source": [
    "set_i1.union(set_i3) #inplace = False"
   ]
  },
  {
   "cell_type": "code",
   "execution_count": 103,
   "id": "9c99c843",
   "metadata": {},
   "outputs": [
    {
     "data": {
      "text/plain": [
       "{1, 2, 3}"
      ]
     },
     "execution_count": 103,
     "metadata": {},
     "output_type": "execute_result"
    }
   ],
   "source": [
    "set_i1"
   ]
  },
  {
   "cell_type": "code",
   "execution_count": 104,
   "id": "61399e98",
   "metadata": {},
   "outputs": [],
   "source": [
    "set_i1.update(set_i3)"
   ]
  },
  {
   "cell_type": "code",
   "execution_count": 105,
   "id": "b08f40ad",
   "metadata": {},
   "outputs": [
    {
     "data": {
      "text/plain": [
       "{1, 2, 3, 5}"
      ]
     },
     "execution_count": 105,
     "metadata": {},
     "output_type": "execute_result"
    }
   ],
   "source": [
    "set_i1"
   ]
  },
  {
   "cell_type": "code",
   "execution_count": 93,
   "id": "5c75c6ed",
   "metadata": {},
   "outputs": [],
   "source": [
    "set_i1.update(set_i2)"
   ]
  },
  {
   "cell_type": "code",
   "execution_count": 94,
   "id": "2d02723e",
   "metadata": {},
   "outputs": [
    {
     "data": {
      "text/plain": [
       "{1, 2, 4, 5}"
      ]
     },
     "execution_count": 94,
     "metadata": {},
     "output_type": "execute_result"
    }
   ],
   "source": [
    "set_i1"
   ]
  },
  {
   "cell_type": "code",
   "execution_count": null,
   "id": "0ff355df",
   "metadata": {},
   "outputs": [],
   "source": []
  }
 ],
 "metadata": {
  "kernelspec": {
   "display_name": "Python 3 (ipykernel)",
   "language": "python",
   "name": "python3"
  },
  "language_info": {
   "codemirror_mode": {
    "name": "ipython",
    "version": 3
   },
   "file_extension": ".py",
   "mimetype": "text/x-python",
   "name": "python",
   "nbconvert_exporter": "python",
   "pygments_lexer": "ipython3",
   "version": "3.11.3"
  }
 },
 "nbformat": 4,
 "nbformat_minor": 5
}
