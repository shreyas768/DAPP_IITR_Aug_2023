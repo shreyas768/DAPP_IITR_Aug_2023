{
 "cells": [
  {
   "cell_type": "code",
   "execution_count": 3,
   "id": "8bd925a5",
   "metadata": {},
   "outputs": [],
   "source": [
    "str1 = 'this is a string'"
   ]
  },
  {
   "cell_type": "code",
   "execution_count": 4,
   "id": "ffeb8e1e",
   "metadata": {},
   "outputs": [
    {
     "data": {
      "text/plain": [
       "'This is a string'"
      ]
     },
     "execution_count": 4,
     "metadata": {},
     "output_type": "execute_result"
    }
   ],
   "source": [
    "#capitalize first word\n",
    "str1.capitalize()"
   ]
  },
  {
   "cell_type": "code",
   "execution_count": 8,
   "id": "ccf0b3ee",
   "metadata": {},
   "outputs": [],
   "source": [
    "str1_upper = str1.upper()"
   ]
  },
  {
   "cell_type": "code",
   "execution_count": 6,
   "id": "dbe9078c",
   "metadata": {},
   "outputs": [
    {
     "data": {
      "text/plain": [
       "'this is a string'"
      ]
     },
     "execution_count": 6,
     "metadata": {},
     "output_type": "execute_result"
    }
   ],
   "source": [
    "str1.lower()"
   ]
  },
  {
   "cell_type": "code",
   "execution_count": 7,
   "id": "b4fa9ff3",
   "metadata": {},
   "outputs": [
    {
     "data": {
      "text/plain": [
       "'this is a string'"
      ]
     },
     "execution_count": 7,
     "metadata": {},
     "output_type": "execute_result"
    }
   ],
   "source": [
    "str1"
   ]
  },
  {
   "cell_type": "code",
   "execution_count": 9,
   "id": "0cb71f19",
   "metadata": {},
   "outputs": [
    {
     "data": {
      "text/plain": [
       "'THIS IS A STRING'"
      ]
     },
     "execution_count": 9,
     "metadata": {},
     "output_type": "execute_result"
    }
   ],
   "source": [
    "str1_upper"
   ]
  },
  {
   "cell_type": "code",
   "execution_count": 33,
   "id": "00f4078b",
   "metadata": {},
   "outputs": [],
   "source": [
    "st = 'heLLo'"
   ]
  },
  {
   "cell_type": "code",
   "execution_count": 15,
   "id": "063a4e89",
   "metadata": {},
   "outputs": [
    {
     "data": {
      "text/plain": [
       "'HELLO'"
      ]
     },
     "execution_count": 15,
     "metadata": {},
     "output_type": "execute_result"
    }
   ],
   "source": [
    "st.upper()"
   ]
  },
  {
   "cell_type": "code",
   "execution_count": 16,
   "id": "d3874b22",
   "metadata": {},
   "outputs": [
    {
     "data": {
      "text/plain": [
       "'heLLo'"
      ]
     },
     "execution_count": 16,
     "metadata": {},
     "output_type": "execute_result"
    }
   ],
   "source": [
    "st  #inplace=False"
   ]
  },
  {
   "cell_type": "markdown",
   "id": "c3fe33e9",
   "metadata": {},
   "source": [
    "# Location and Counting"
   ]
  },
  {
   "cell_type": "code",
   "execution_count": 11,
   "id": "10c5bd1d",
   "metadata": {},
   "outputs": [
    {
     "data": {
      "text/plain": [
       "2"
      ]
     },
     "execution_count": 11,
     "metadata": {},
     "output_type": "execute_result"
    }
   ],
   "source": [
    "str1.count('is')"
   ]
  },
  {
   "cell_type": "code",
   "execution_count": 13,
   "id": "b0de4d3c",
   "metadata": {},
   "outputs": [
    {
     "data": {
      "text/plain": [
       "3"
      ]
     },
     "execution_count": 13,
     "metadata": {},
     "output_type": "execute_result"
    }
   ],
   "source": [
    "str1.find('s is')"
   ]
  },
  {
   "cell_type": "markdown",
   "id": "45171615",
   "metadata": {},
   "source": [
    "# Formatting"
   ]
  },
  {
   "cell_type": "code",
   "execution_count": 21,
   "id": "8ed230cd",
   "metadata": {},
   "outputs": [
    {
     "data": {
      "text/plain": [
       "'oooheLLoooo'"
      ]
     },
     "execution_count": 21,
     "metadata": {},
     "output_type": "execute_result"
    }
   ],
   "source": [
    "st.center(11,'o')"
   ]
  },
  {
   "cell_type": "code",
   "execution_count": 34,
   "id": "d8928847",
   "metadata": {},
   "outputs": [
    {
     "data": {
      "text/plain": [
       "True"
      ]
     },
     "execution_count": 34,
     "metadata": {},
     "output_type": "execute_result"
    }
   ],
   "source": [
    "st.isalnum()"
   ]
  },
  {
   "cell_type": "code",
   "execution_count": 35,
   "id": "bb933bb2",
   "metadata": {},
   "outputs": [
    {
     "data": {
      "text/plain": [
       "True"
      ]
     },
     "execution_count": 35,
     "metadata": {},
     "output_type": "execute_result"
    }
   ],
   "source": [
    "st.isalpha()"
   ]
  },
  {
   "cell_type": "code",
   "execution_count": 36,
   "id": "6ff12ecc",
   "metadata": {},
   "outputs": [
    {
     "data": {
      "text/plain": [
       "False"
      ]
     },
     "execution_count": 36,
     "metadata": {},
     "output_type": "execute_result"
    }
   ],
   "source": [
    "st.islower()"
   ]
  },
  {
   "cell_type": "code",
   "execution_count": 39,
   "id": "eac642e1",
   "metadata": {},
   "outputs": [
    {
     "data": {
      "text/plain": [
       "False"
      ]
     },
     "execution_count": 39,
     "metadata": {},
     "output_type": "execute_result"
    }
   ],
   "source": [
    "st.isupper()"
   ]
  },
  {
   "cell_type": "code",
   "execution_count": 37,
   "id": "836fc309",
   "metadata": {},
   "outputs": [
    {
     "data": {
      "text/plain": [
       "True"
      ]
     },
     "execution_count": 37,
     "metadata": {},
     "output_type": "execute_result"
    }
   ],
   "source": [
    "str1_upper.isupper()"
   ]
  },
  {
   "cell_type": "code",
   "execution_count": 38,
   "id": "d04f2e82",
   "metadata": {},
   "outputs": [
    {
     "data": {
      "text/plain": [
       "False"
      ]
     },
     "execution_count": 38,
     "metadata": {},
     "output_type": "execute_result"
    }
   ],
   "source": [
    "str1_upper.islower()"
   ]
  },
  {
   "cell_type": "code",
   "execution_count": 41,
   "id": "80837e70",
   "metadata": {},
   "outputs": [
    {
     "data": {
      "text/plain": [
       "True"
      ]
     },
     "execution_count": 41,
     "metadata": {},
     "output_type": "execute_result"
    }
   ],
   "source": [
    "str1.endswith('g')"
   ]
  },
  {
   "cell_type": "code",
   "execution_count": 42,
   "id": "6d0b4795",
   "metadata": {},
   "outputs": [
    {
     "data": {
      "text/plain": [
       "True"
      ]
     },
     "execution_count": 42,
     "metadata": {},
     "output_type": "execute_result"
    }
   ],
   "source": [
    "str1[-1] == 'g'"
   ]
  },
  {
   "cell_type": "markdown",
   "id": "a2545d9a",
   "metadata": {},
   "source": [
    "# Built In Expressions"
   ]
  },
  {
   "cell_type": "code",
   "execution_count": 44,
   "id": "2edee8ef",
   "metadata": {},
   "outputs": [
    {
     "data": {
      "text/plain": [
       "'heLLo'"
      ]
     },
     "execution_count": 44,
     "metadata": {},
     "output_type": "execute_result"
    }
   ],
   "source": [
    "st"
   ]
  },
  {
   "cell_type": "code",
   "execution_count": 46,
   "id": "c3e5a9a5",
   "metadata": {},
   "outputs": [
    {
     "data": {
      "text/plain": [
       "['h', 'Lo']"
      ]
     },
     "execution_count": 46,
     "metadata": {},
     "output_type": "execute_result"
    }
   ],
   "source": [
    "st.split('eL')"
   ]
  },
  {
   "cell_type": "code",
   "execution_count": 47,
   "id": "ccfed293",
   "metadata": {},
   "outputs": [
    {
     "data": {
      "text/plain": [
       "('h', 'eL', 'Lo')"
      ]
     },
     "execution_count": 47,
     "metadata": {},
     "output_type": "execute_result"
    }
   ],
   "source": [
    "st.partition('eL')"
   ]
  },
  {
   "cell_type": "code",
   "execution_count": null,
   "id": "74300765",
   "metadata": {},
   "outputs": [],
   "source": []
  }
 ],
 "metadata": {
  "kernelspec": {
   "display_name": "Python 3 (ipykernel)",
   "language": "python",
   "name": "python3"
  },
  "language_info": {
   "codemirror_mode": {
    "name": "ipython",
    "version": 3
   },
   "file_extension": ".py",
   "mimetype": "text/x-python",
   "name": "python",
   "nbconvert_exporter": "python",
   "pygments_lexer": "ipython3",
   "version": "3.11.3"
  }
 },
 "nbformat": 4,
 "nbformat_minor": 5
}
