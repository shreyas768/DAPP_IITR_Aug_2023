{
 "cells": [
  {
   "cell_type": "code",
   "execution_count": 5,
   "id": "61982394",
   "metadata": {},
   "outputs": [],
   "source": [
    "def f(x,y):\n",
    "    return sum((x,y))*0.5"
   ]
  },
  {
   "cell_type": "code",
   "execution_count": 6,
   "id": "f2c7d6d8",
   "metadata": {},
   "outputs": [
    {
     "data": {
      "text/plain": [
       "25.0"
      ]
     },
     "execution_count": 6,
     "metadata": {},
     "output_type": "execute_result"
    }
   ],
   "source": [
    "f(20,30)"
   ]
  },
  {
   "cell_type": "code",
   "execution_count": 7,
   "id": "402b3a5d",
   "metadata": {},
   "outputs": [],
   "source": [
    "def f(x,y,a,b):\n",
    "    return sum((x,y,a,b))*0.5"
   ]
  },
  {
   "cell_type": "code",
   "execution_count": 8,
   "id": "f553de24",
   "metadata": {},
   "outputs": [
    {
     "data": {
      "text/plain": [
       "3.5"
      ]
     },
     "execution_count": 8,
     "metadata": {},
     "output_type": "execute_result"
    }
   ],
   "source": [
    "f(1,1,2,3)"
   ]
  },
  {
   "cell_type": "markdown",
   "id": "b008cb78",
   "metadata": {},
   "source": [
    "# *args\n",
    "\n",
    "functions take in tuples of values"
   ]
  },
  {
   "cell_type": "code",
   "execution_count": 11,
   "id": "7dfa8533",
   "metadata": {},
   "outputs": [],
   "source": [
    "def f(*args):\n",
    "    return sum(args)*0.5"
   ]
  },
  {
   "cell_type": "code",
   "execution_count": 12,
   "id": "5be355af",
   "metadata": {},
   "outputs": [
    {
     "data": {
      "text/plain": [
       "17.0"
      ]
     },
     "execution_count": 12,
     "metadata": {},
     "output_type": "execute_result"
    }
   ],
   "source": [
    "f(1,2,3,4,1,3,4,1,4,2,2,4,2,1,)"
   ]
  },
  {
   "cell_type": "markdown",
   "id": "1ba57a46",
   "metadata": {},
   "source": [
    "# **kwargs\n",
    "\n",
    "build a dictionary of key/value pairs"
   ]
  },
  {
   "cell_type": "code",
   "execution_count": 14,
   "id": "96348a25",
   "metadata": {},
   "outputs": [],
   "source": [
    "def f1(**kwargs):\n",
    "    if 'car' in kwargs:\n",
    "        print(f\"My fav car is {kwargs['car']}\")\n",
    "    else:\n",
    "        print(\"I don't have any car\")"
   ]
  },
  {
   "cell_type": "code",
   "execution_count": 15,
   "id": "8d15a193",
   "metadata": {},
   "outputs": [
    {
     "name": "stdout",
     "output_type": "stream",
     "text": [
      "My fav car is Suzuki\n"
     ]
    }
   ],
   "source": [
    "f1(car = 'Suzuki')"
   ]
  },
  {
   "cell_type": "code",
   "execution_count": 16,
   "id": "898182df",
   "metadata": {},
   "outputs": [
    {
     "name": "stdout",
     "output_type": "stream",
     "text": [
      "I don't have any car\n"
     ]
    }
   ],
   "source": [
    "f1()"
   ]
  },
  {
   "cell_type": "code",
   "execution_count": 23,
   "id": "2846d9b2",
   "metadata": {},
   "outputs": [],
   "source": [
    "def f3(*args,**kwargs):\n",
    "    if 'car' and 'bike' in kwargs:\n",
    "        print(f\"I like these cars: {' and '.join(args)} and my fav bike is {kwargs['bike']}\")\n",
    "        print(f\"May I have your {kwargs['bicycle']}?\")\n",
    "    else:\n",
    "        pass"
   ]
  },
  {
   "cell_type": "code",
   "execution_count": 24,
   "id": "29bd0f79",
   "metadata": {},
   "outputs": [
    {
     "name": "stdout",
     "output_type": "stream",
     "text": [
      "I like these cars: Suzuki and Mahindra and my fav bike is bajaj\n",
      "May I have your hero?\n"
     ]
    }
   ],
   "source": [
    "f3('Suzuki','Mahindra', bike = 'bajaj', bicycle = 'hero' )"
   ]
  },
  {
   "cell_type": "code",
   "execution_count": null,
   "id": "3cf69165",
   "metadata": {},
   "outputs": [],
   "source": []
  }
 ],
 "metadata": {
  "kernelspec": {
   "display_name": "Python 3 (ipykernel)",
   "language": "python",
   "name": "python3"
  },
  "language_info": {
   "codemirror_mode": {
    "name": "ipython",
    "version": 3
   },
   "file_extension": ".py",
   "mimetype": "text/x-python",
   "name": "python",
   "nbconvert_exporter": "python",
   "pygments_lexer": "ipython3",
   "version": "3.11.3"
  }
 },
 "nbformat": 4,
 "nbformat_minor": 5
}
