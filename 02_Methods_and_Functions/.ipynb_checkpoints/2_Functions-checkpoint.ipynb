{
 "cells": [
  {
   "cell_type": "code",
   "execution_count": 6,
   "id": "ecaa9273",
   "metadata": {},
   "outputs": [],
   "source": [
    "def name_of_function(arg1,arg2,arg3):\n",
    "    '''\n",
    "    Here, you enter Document String(docstring)\n",
    "    When type in help() on your function it will be printed out\n",
    "    '''\n",
    "    # Do stuff here\n",
    "    # Return desired output"
   ]
  },
  {
   "cell_type": "code",
   "execution_count": 7,
   "id": "fc95eb20",
   "metadata": {},
   "outputs": [
    {
     "name": "stdout",
     "output_type": "stream",
     "text": [
      "Help on function name_of_function in module __main__:\n",
      "\n",
      "name_of_function(arg1, arg2, arg3)\n",
      "    Here, you enter Document String(docstring)\n",
      "    When type in help() on your function it will be printed out\n",
      "\n"
     ]
    }
   ],
   "source": [
    "help(name_of_function)"
   ]
  },
  {
   "cell_type": "code",
   "execution_count": 8,
   "id": "9b4de327",
   "metadata": {},
   "outputs": [],
   "source": [
    "def print_hello():\n",
    "    print('hello friend !!')"
   ]
  },
  {
   "cell_type": "code",
   "execution_count": 9,
   "id": "47625d64",
   "metadata": {},
   "outputs": [
    {
     "data": {
      "text/plain": [
       "<function __main__.print_hello()>"
      ]
     },
     "execution_count": 9,
     "metadata": {},
     "output_type": "execute_result"
    }
   ],
   "source": [
    "print_hello"
   ]
  },
  {
   "cell_type": "code",
   "execution_count": 10,
   "id": "aa65bd09",
   "metadata": {},
   "outputs": [
    {
     "name": "stdout",
     "output_type": "stream",
     "text": [
      "hello friend !!\n"
     ]
    }
   ],
   "source": [
    "print_hello()"
   ]
  },
  {
   "cell_type": "code",
   "execution_count": 11,
   "id": "e416fc57",
   "metadata": {},
   "outputs": [],
   "source": [
    "def welcome(name):\n",
    "    print(f'Hello {name}')"
   ]
  },
  {
   "cell_type": "code",
   "execution_count": 12,
   "id": "0b0feacf",
   "metadata": {},
   "outputs": [
    {
     "name": "stdout",
     "output_type": "stream",
     "text": [
      "Hello Anjana\n"
     ]
    }
   ],
   "source": [
    "welcome('Anjana')"
   ]
  },
  {
   "cell_type": "code",
   "execution_count": 13,
   "id": "a7e3118b",
   "metadata": {},
   "outputs": [],
   "source": [
    "def addition(num1,num2,num3):\n",
    "    return num1+num2+num3"
   ]
  },
  {
   "cell_type": "code",
   "execution_count": 14,
   "id": "04e58a31",
   "metadata": {},
   "outputs": [
    {
     "data": {
      "text/plain": [
       "568"
      ]
     },
     "execution_count": 14,
     "metadata": {},
     "output_type": "execute_result"
    }
   ],
   "source": [
    "addition(121,324,123)"
   ]
  },
  {
   "cell_type": "code",
   "execution_count": 15,
   "id": "f04b19e2",
   "metadata": {},
   "outputs": [],
   "source": [
    "def addition_print(num1,num2,num3):\n",
    "    print(num1+num2+num3)"
   ]
  },
  {
   "cell_type": "code",
   "execution_count": 16,
   "id": "bd82dcda",
   "metadata": {},
   "outputs": [],
   "source": [
    "my_res_return = addition(121,324,123)"
   ]
  },
  {
   "cell_type": "code",
   "execution_count": 17,
   "id": "14caa353",
   "metadata": {},
   "outputs": [
    {
     "data": {
      "text/plain": [
       "568"
      ]
     },
     "execution_count": 17,
     "metadata": {},
     "output_type": "execute_result"
    }
   ],
   "source": [
    "my_res_return"
   ]
  },
  {
   "cell_type": "code",
   "execution_count": 20,
   "id": "7a357021",
   "metadata": {},
   "outputs": [
    {
     "name": "stdout",
     "output_type": "stream",
     "text": [
      "568\n"
     ]
    }
   ],
   "source": [
    "my_res_print = addition_print(121,324,123)"
   ]
  },
  {
   "cell_type": "code",
   "execution_count": 21,
   "id": "240f5071",
   "metadata": {},
   "outputs": [],
   "source": [
    "my_res_print"
   ]
  },
  {
   "cell_type": "code",
   "execution_count": 22,
   "id": "e13904cb",
   "metadata": {},
   "outputs": [
    {
     "data": {
      "text/plain": [
       "NoneType"
      ]
     },
     "execution_count": 22,
     "metadata": {},
     "output_type": "execute_result"
    }
   ],
   "source": [
    "type(my_res_print)"
   ]
  },
  {
   "cell_type": "code",
   "execution_count": 23,
   "id": "938c246d",
   "metadata": {},
   "outputs": [
    {
     "data": {
      "text/plain": [
       "int"
      ]
     },
     "execution_count": 23,
     "metadata": {},
     "output_type": "execute_result"
    }
   ],
   "source": [
    "type(my_res_return)"
   ]
  },
  {
   "cell_type": "code",
   "execution_count": 26,
   "id": "b5c932d4",
   "metadata": {},
   "outputs": [],
   "source": [
    "def addition_print_return(num1,num2,num3):\n",
    "    print(num1+num2+num3)\n",
    "    return num1+num2+num3"
   ]
  },
  {
   "cell_type": "code",
   "execution_count": 27,
   "id": "004b2505",
   "metadata": {},
   "outputs": [
    {
     "name": "stdout",
     "output_type": "stream",
     "text": [
      "45\n"
     ]
    },
    {
     "data": {
      "text/plain": [
       "45"
      ]
     },
     "execution_count": 27,
     "metadata": {},
     "output_type": "execute_result"
    }
   ],
   "source": [
    "addition_print_return(11,11,23)"
   ]
  },
  {
   "cell_type": "code",
   "execution_count": 30,
   "id": "ca9d38c9",
   "metadata": {},
   "outputs": [
    {
     "data": {
      "text/plain": [
       "322624"
      ]
     },
     "execution_count": 30,
     "metadata": {},
     "output_type": "execute_result"
    }
   ],
   "source": [
    "my_res_return**2"
   ]
  },
  {
   "cell_type": "code",
   "execution_count": 31,
   "id": "0f5fa405",
   "metadata": {},
   "outputs": [
    {
     "data": {
      "text/plain": [
       "0"
      ]
     },
     "execution_count": 31,
     "metadata": {},
     "output_type": "execute_result"
    }
   ],
   "source": [
    "20 % 2"
   ]
  },
  {
   "cell_type": "code",
   "execution_count": 32,
   "id": "73b4fec6",
   "metadata": {},
   "outputs": [
    {
     "data": {
      "text/plain": [
       "True"
      ]
     },
     "execution_count": 32,
     "metadata": {},
     "output_type": "execute_result"
    }
   ],
   "source": [
    "20 % 2 != 1"
   ]
  },
  {
   "cell_type": "markdown",
   "id": "2d55433f",
   "metadata": {},
   "source": [
    "# Add Logic to Internal Function Operations"
   ]
  },
  {
   "cell_type": "code",
   "execution_count": 33,
   "id": "68c3feca",
   "metadata": {},
   "outputs": [],
   "source": [
    "def check_even(num):\n",
    "    return num % 2 == 0"
   ]
  },
  {
   "cell_type": "code",
   "execution_count": 34,
   "id": "fc8950a4",
   "metadata": {},
   "outputs": [
    {
     "data": {
      "text/plain": [
       "True"
      ]
     },
     "execution_count": 34,
     "metadata": {},
     "output_type": "execute_result"
    }
   ],
   "source": [
    "check_even(92832902390)"
   ]
  },
  {
   "cell_type": "code",
   "execution_count": 35,
   "id": "d5476acd",
   "metadata": {},
   "outputs": [
    {
     "data": {
      "text/plain": [
       "False"
      ]
     },
     "execution_count": 35,
     "metadata": {},
     "output_type": "execute_result"
    }
   ],
   "source": [
    "check_even(1)"
   ]
  },
  {
   "cell_type": "markdown",
   "id": "a7dce204",
   "metadata": {},
   "source": [
    "# Check if any number in a list is even or not"
   ]
  },
  {
   "cell_type": "code",
   "execution_count": 51,
   "id": "2577aa97",
   "metadata": {},
   "outputs": [],
   "source": [
    "def check_list_even(n_list):\n",
    "    \n",
    "    for number in n_list:\n",
    "        if number%2 == 0:\n",
    "            return True\n",
    "        else:\n",
    "            pass"
   ]
  },
  {
   "cell_type": "code",
   "execution_count": 52,
   "id": "246fc8da",
   "metadata": {},
   "outputs": [
    {
     "data": {
      "text/plain": [
       "True"
      ]
     },
     "execution_count": 52,
     "metadata": {},
     "output_type": "execute_result"
    }
   ],
   "source": [
    "check_list_even([12,1,19,23])"
   ]
  },
  {
   "cell_type": "code",
   "execution_count": 53,
   "id": "7fc3cc3b",
   "metadata": {},
   "outputs": [],
   "source": [
    "check_list_even([11,1,19,23])"
   ]
  },
  {
   "cell_type": "code",
   "execution_count": 54,
   "id": "32f69052",
   "metadata": {},
   "outputs": [],
   "source": [
    "#THIS IS WRONG\n",
    "\n",
    "def check_list_even(n_list):\n",
    "    \n",
    "    for number in n_list:\n",
    "        if number%2 == 0:\n",
    "            return True\n",
    "        else:\n",
    "            return False"
   ]
  },
  {
   "cell_type": "code",
   "execution_count": 55,
   "id": "90d3c5c8",
   "metadata": {},
   "outputs": [
    {
     "data": {
      "text/plain": [
       "False"
      ]
     },
     "execution_count": 55,
     "metadata": {},
     "output_type": "execute_result"
    }
   ],
   "source": [
    "check_list_even([1,2,3])"
   ]
  },
  {
   "cell_type": "code",
   "execution_count": 56,
   "id": "e7433814",
   "metadata": {},
   "outputs": [],
   "source": [
    "#DO IT THIS WAY\n",
    "\n",
    "def check_list_even(n_list):\n",
    "    \n",
    "    for number in n_list:\n",
    "        if number%2 == 0:\n",
    "            return True\n",
    "        else:\n",
    "            pass\n",
    "    return False"
   ]
  },
  {
   "cell_type": "code",
   "execution_count": 57,
   "id": "de7e7b5c",
   "metadata": {},
   "outputs": [
    {
     "data": {
      "text/plain": [
       "True"
      ]
     },
     "execution_count": 57,
     "metadata": {},
     "output_type": "execute_result"
    }
   ],
   "source": [
    "check_list_even([1,2,3])"
   ]
  },
  {
   "cell_type": "code",
   "execution_count": 47,
   "id": "05f074ee",
   "metadata": {},
   "outputs": [
    {
     "data": {
      "text/plain": [
       "False"
      ]
     },
     "execution_count": 47,
     "metadata": {},
     "output_type": "execute_result"
    }
   ],
   "source": [
    "check_list_even([1,5,3])"
   ]
  },
  {
   "cell_type": "markdown",
   "id": "30e7747a",
   "metadata": {},
   "source": [
    "# Returning Unpacked Tuples "
   ]
  },
  {
   "cell_type": "code",
   "execution_count": 58,
   "id": "3d2b7be3",
   "metadata": {},
   "outputs": [],
   "source": [
    "fruits_prices = [('apple',200),('mangoes',100),('banana',50)]"
   ]
  },
  {
   "cell_type": "code",
   "execution_count": 59,
   "id": "4ab2dd10",
   "metadata": {},
   "outputs": [
    {
     "name": "stdout",
     "output_type": "stream",
     "text": [
      "('apple', 200)\n",
      "('mangoes', 100)\n",
      "('banana', 50)\n"
     ]
    }
   ],
   "source": [
    "for items in fruits_prices:\n",
    "    print(items)"
   ]
  },
  {
   "cell_type": "code",
   "execution_count": 60,
   "id": "ccc0c104",
   "metadata": {},
   "outputs": [
    {
     "name": "stdout",
     "output_type": "stream",
     "text": [
      "200\n",
      "100\n",
      "50\n"
     ]
    }
   ],
   "source": [
    "for items,prices in fruits_prices:\n",
    "    print(prices)"
   ]
  },
  {
   "cell_type": "code",
   "execution_count": 61,
   "id": "485b27f5",
   "metadata": {},
   "outputs": [
    {
     "name": "stdout",
     "output_type": "stream",
     "text": [
      "apple\n",
      "mangoes\n",
      "banana\n"
     ]
    }
   ],
   "source": [
    "for items,prices in fruits_prices:\n",
    "    print(items)"
   ]
  },
  {
   "cell_type": "code",
   "execution_count": 62,
   "id": "03e2e172",
   "metadata": {},
   "outputs": [
    {
     "name": "stdout",
     "output_type": "stream",
     "text": [
      "236.0\n",
      "118.0\n",
      "59.0\n"
     ]
    }
   ],
   "source": [
    "for items,prices in fruits_prices:\n",
    "    print(prices*1.18)"
   ]
  },
  {
   "cell_type": "code",
   "execution_count": 63,
   "id": "9a94907c",
   "metadata": {},
   "outputs": [],
   "source": [
    "dapp_attendance = [('Seth',100),('John',89),('Sarah',50)]"
   ]
  },
  {
   "cell_type": "code",
   "execution_count": 66,
   "id": "f1bc125d",
   "metadata": {},
   "outputs": [],
   "source": [
    "def best_partici(dapp_attendance):\n",
    "    \n",
    "    current_max = 0 \n",
    "    best_participant = ''\n",
    "    \n",
    "    for parti,attend in dapp_attendance:\n",
    "        if attend > current_max:\n",
    "            current_max = attend\n",
    "            best_participant = parti\n",
    "        else:\n",
    "            pass\n",
    "    return(best_participant,current_max)"
   ]
  },
  {
   "cell_type": "code",
   "execution_count": 67,
   "id": "ec257f2c",
   "metadata": {},
   "outputs": [
    {
     "data": {
      "text/plain": [
       "('Seth', 100)"
      ]
     },
     "execution_count": 67,
     "metadata": {},
     "output_type": "execute_result"
    }
   ],
   "source": [
    "best_partici(dapp_attendance)"
   ]
  },
  {
   "cell_type": "markdown",
   "id": "339198ed",
   "metadata": {},
   "source": [
    "employee_lst = [('Ram',40,1),('Adam',32,3),('Ash',34,2),('Edu',23,6)]\n",
    "#Best Employee Award\n",
    "work_hours has to max\n",
    "leaves has to min"
   ]
  },
  {
   "cell_type": "code",
   "execution_count": null,
   "id": "c9e9a8ac",
   "metadata": {},
   "outputs": [],
   "source": []
  }
 ],
 "metadata": {
  "kernelspec": {
   "display_name": "Python 3 (ipykernel)",
   "language": "python",
   "name": "python3"
  },
  "language_info": {
   "codemirror_mode": {
    "name": "ipython",
    "version": 3
   },
   "file_extension": ".py",
   "mimetype": "text/x-python",
   "name": "python",
   "nbconvert_exporter": "python",
   "pygments_lexer": "ipython3",
   "version": "3.11.3"
  }
 },
 "nbformat": 4,
 "nbformat_minor": 5
}
