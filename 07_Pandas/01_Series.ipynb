{
 "cells": [
  {
   "cell_type": "code",
   "execution_count": 7,
   "id": "f97235ef",
   "metadata": {},
   "outputs": [],
   "source": [
    "import numpy as np\n",
    "import pandas as pd"
   ]
  },
  {
   "cell_type": "code",
   "execution_count": 8,
   "id": "063a476e",
   "metadata": {},
   "outputs": [],
   "source": [
    "#help(pd.Series)"
   ]
  },
  {
   "cell_type": "markdown",
   "id": "83f673da",
   "metadata": {},
   "source": [
    "# Create series from objects\n",
    "\n",
    "## Index"
   ]
  },
  {
   "cell_type": "code",
   "execution_count": 9,
   "id": "30153634",
   "metadata": {},
   "outputs": [],
   "source": [
    "i = ['India','China','Nepal']\n",
    "n = [1121,1453,1876]"
   ]
  },
  {
   "cell_type": "code",
   "execution_count": 10,
   "id": "366cb120",
   "metadata": {},
   "outputs": [
    {
     "data": {
      "text/plain": [
       "0    1121\n",
       "1    1453\n",
       "2    1876\n",
       "dtype: int64"
      ]
     },
     "execution_count": 10,
     "metadata": {},
     "output_type": "execute_result"
    }
   ],
   "source": [
    "pd.Series(data=n)"
   ]
  },
  {
   "cell_type": "code",
   "execution_count": 11,
   "id": "d6b12142",
   "metadata": {},
   "outputs": [
    {
     "data": {
      "text/plain": [
       "India    1121\n",
       "China    1453\n",
       "Nepal    1876\n",
       "dtype: int64"
      ]
     },
     "execution_count": 11,
     "metadata": {},
     "output_type": "execute_result"
    }
   ],
   "source": [
    "pd.Series(data=n, index = i)"
   ]
  },
  {
   "cell_type": "code",
   "execution_count": 12,
   "id": "34d9efaf",
   "metadata": {},
   "outputs": [
    {
     "data": {
      "text/plain": [
       "array([19,  9, 16, 18, 10])"
      ]
     },
     "execution_count": 12,
     "metadata": {},
     "output_type": "execute_result"
    }
   ],
   "source": [
    "num1 = np.random.randint(0,34,5)\n",
    "num1"
   ]
  },
  {
   "cell_type": "code",
   "execution_count": 13,
   "id": "d2419f12",
   "metadata": {},
   "outputs": [],
   "source": [
    "name = ['Abhi','Ram','David','Neha','Shilpa']"
   ]
  },
  {
   "cell_type": "code",
   "execution_count": 14,
   "id": "4bcff1fc",
   "metadata": {},
   "outputs": [],
   "source": [
    "mydata = pd.Series(num1,name)"
   ]
  },
  {
   "cell_type": "code",
   "execution_count": 15,
   "id": "9c719cf1",
   "metadata": {},
   "outputs": [
    {
     "data": {
      "text/plain": [
       "Abhi      19\n",
       "Ram        9\n",
       "David     16\n",
       "Neha      18\n",
       "Shilpa    10\n",
       "dtype: int32"
      ]
     },
     "execution_count": 15,
     "metadata": {},
     "output_type": "execute_result"
    }
   ],
   "source": [
    "mydata"
   ]
  },
  {
   "cell_type": "markdown",
   "id": "6d385010",
   "metadata": {},
   "source": [
    "int16 store values upto 32767"
   ]
  },
  {
   "cell_type": "markdown",
   "id": "e6e8767e",
   "metadata": {},
   "source": [
    "### Dictionary"
   ]
  },
  {
   "cell_type": "code",
   "execution_count": 16,
   "id": "8204bb2b",
   "metadata": {},
   "outputs": [],
   "source": [
    "age = {'Neha':10,'Frank':12,'Mahesh':7}"
   ]
  },
  {
   "cell_type": "code",
   "execution_count": 17,
   "id": "dad7ed99",
   "metadata": {},
   "outputs": [
    {
     "data": {
      "text/plain": [
       "{'Neha': 10, 'Frank': 12, 'Mahesh': 7}"
      ]
     },
     "execution_count": 17,
     "metadata": {},
     "output_type": "execute_result"
    }
   ],
   "source": [
    "age"
   ]
  },
  {
   "cell_type": "code",
   "execution_count": 18,
   "id": "f5f01f2d",
   "metadata": {},
   "outputs": [
    {
     "data": {
      "text/plain": [
       "Neha      10\n",
       "Frank     12\n",
       "Mahesh     7\n",
       "dtype: int64"
      ]
     },
     "execution_count": 18,
     "metadata": {},
     "output_type": "execute_result"
    }
   ],
   "source": [
    "pd.Series(age)"
   ]
  },
  {
   "cell_type": "code",
   "execution_count": 20,
   "id": "ac4a5a75",
   "metadata": {},
   "outputs": [],
   "source": [
    "qt1 = {'Nepal':80,'India':120,'USA':200,'Australia':220}\n",
    "qt2  = {'Barbados':90,'India':100,'USA':210,'Australia':250}"
   ]
  },
  {
   "cell_type": "code",
   "execution_count": 21,
   "id": "5de0c897",
   "metadata": {},
   "outputs": [],
   "source": [
    "qt1_s = pd.Series(qt1)\n",
    "qt2_s = pd.Series(qt2)"
   ]
  },
  {
   "cell_type": "code",
   "execution_count": 22,
   "id": "8bf2a538",
   "metadata": {},
   "outputs": [
    {
     "data": {
      "text/plain": [
       "Nepal         80\n",
       "India        120\n",
       "USA          200\n",
       "Australia    220\n",
       "dtype: int64"
      ]
     },
     "execution_count": 22,
     "metadata": {},
     "output_type": "execute_result"
    }
   ],
   "source": [
    "qt1_s"
   ]
  },
  {
   "cell_type": "code",
   "execution_count": 23,
   "id": "cc4fc025",
   "metadata": {},
   "outputs": [
    {
     "data": {
      "text/plain": [
       "200"
      ]
     },
     "execution_count": 23,
     "metadata": {},
     "output_type": "execute_result"
    }
   ],
   "source": [
    "qt1_s['USA']\n"
   ]
  },
  {
   "cell_type": "code",
   "execution_count": 24,
   "id": "0d7b48e4",
   "metadata": {},
   "outputs": [
    {
     "data": {
      "text/plain": [
       "200"
      ]
     },
     "execution_count": 24,
     "metadata": {},
     "output_type": "execute_result"
    }
   ],
   "source": [
    "qt1_s[2]"
   ]
  },
  {
   "cell_type": "code",
   "execution_count": 25,
   "id": "03d72531",
   "metadata": {},
   "outputs": [
    {
     "data": {
      "text/plain": [
       "Index(['Nepal', 'India', 'USA', 'Australia'], dtype='object')"
      ]
     },
     "execution_count": 25,
     "metadata": {},
     "output_type": "execute_result"
    }
   ],
   "source": [
    "qt1_s.keys()"
   ]
  },
  {
   "cell_type": "code",
   "execution_count": 26,
   "id": "ffb9b6d3",
   "metadata": {},
   "outputs": [
    {
     "data": {
      "text/plain": [
       "Nepal         400\n",
       "India         600\n",
       "USA          1000\n",
       "Australia    1100\n",
       "dtype: int64"
      ]
     },
     "execution_count": 26,
     "metadata": {},
     "output_type": "execute_result"
    }
   ],
   "source": [
    "qt1_s*5"
   ]
  },
  {
   "cell_type": "code",
   "execution_count": 27,
   "id": "17eeb045",
   "metadata": {},
   "outputs": [
    {
     "data": {
      "text/plain": [
       "Barbados     0.9\n",
       "India        1.0\n",
       "USA          2.1\n",
       "Australia    2.5\n",
       "dtype: float64"
      ]
     },
     "execution_count": 27,
     "metadata": {},
     "output_type": "execute_result"
    }
   ],
   "source": [
    "qt2_s/100"
   ]
  },
  {
   "cell_type": "code",
   "execution_count": 28,
   "id": "fe66d51a",
   "metadata": {},
   "outputs": [
    {
     "data": {
      "text/plain": [
       "Australia    470.0\n",
       "Barbados       NaN\n",
       "India        220.0\n",
       "Nepal          NaN\n",
       "USA          410.0\n",
       "dtype: float64"
      ]
     },
     "execution_count": 28,
     "metadata": {},
     "output_type": "execute_result"
    }
   ],
   "source": [
    "qt1_s+qt2_s"
   ]
  },
  {
   "cell_type": "code",
   "execution_count": 29,
   "id": "1c8323dd",
   "metadata": {},
   "outputs": [
    {
     "data": {
      "text/plain": [
       "Australia    470.0\n",
       "Barbados       NaN\n",
       "India        220.0\n",
       "Nepal          NaN\n",
       "USA          410.0\n",
       "dtype: float64"
      ]
     },
     "execution_count": 29,
     "metadata": {},
     "output_type": "execute_result"
    }
   ],
   "source": [
    "qt1_s.add(qt2_s)"
   ]
  },
  {
   "cell_type": "code",
   "execution_count": 30,
   "id": "019324c6",
   "metadata": {},
   "outputs": [
    {
     "data": {
      "text/plain": [
       "Australia    470.0\n",
       "Barbados     100.0\n",
       "India        220.0\n",
       "Nepal         90.0\n",
       "USA          410.0\n",
       "dtype: float64"
      ]
     },
     "execution_count": 30,
     "metadata": {},
     "output_type": "execute_result"
    }
   ],
   "source": [
    "qt1_s.add(qt2_s,fill_value = 10)"
   ]
  },
  {
   "cell_type": "code",
   "execution_count": null,
   "id": "f9c3e49d",
   "metadata": {},
   "outputs": [],
   "source": []
  }
 ],
 "metadata": {
  "kernelspec": {
   "display_name": "Python 3 (ipykernel)",
   "language": "python",
   "name": "python3"
  },
  "language_info": {
   "codemirror_mode": {
    "name": "ipython",
    "version": 3
   },
   "file_extension": ".py",
   "mimetype": "text/x-python",
   "name": "python",
   "nbconvert_exporter": "python",
   "pygments_lexer": "ipython3",
   "version": "3.11.3"
  }
 },
 "nbformat": 4,
 "nbformat_minor": 5
}
